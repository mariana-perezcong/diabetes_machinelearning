{
  "nbformat": 4,
  "nbformat_minor": 0,
  "metadata": {
    "kernelspec": {
      "display_name": "Python 3",
      "language": "python",
      "name": "python3"
    },
    "language_info": {
      "codemirror_mode": {
        "name": "ipython",
        "version": 3
      },
      "file_extension": ".py",
      "mimetype": "text/x-python",
      "name": "python",
      "nbconvert_exporter": "python",
      "pygments_lexer": "ipython3",
      "version": "3.7.3"
    },
    "toc": {
      "base_numbering": 1,
      "nav_menu": {},
      "number_sections": true,
      "sideBar": true,
      "skip_h1_title": false,
      "title_cell": "Table of Contents",
      "title_sidebar": "Contents",
      "toc_cell": false,
      "toc_position": {
        "height": "calc(100% - 180px)",
        "left": "10px",
        "top": "150px",
        "width": "290.133px"
      },
      "toc_section_display": true,
      "toc_window_display": true
    },
    "colab": {
      "name": "DataManipulation.ipynb",
      "version": "0.3.2",
      "provenance": []
    }
  },
  "cells": [
    {
      "cell_type": "code",
      "metadata": {
        "id": "rI47EYzQsdTm",
        "colab_type": "code",
        "colab": {},
        "pycharm": {
          "is_executing": false
        }
      },
      "source": "import pandas as pd\nimport numpy as np",
      "execution_count": 1,
      "outputs": []
    },
    {
      "cell_type": "code",
      "metadata": {
        "id": "A8U9gf9ysdTq",
        "colab_type": "code",
        "outputId": "dc42928d-62d5-452b-99aa-624fd487592a",
        "executionInfo": {
          "status": "error",
          "timestamp": 1563447071068,
          "user_tz": 240,
          "elapsed": 274,
          "user": {
            "displayName": "Mariana Pérez Cong",
            "photoUrl": "",
            "userId": "11109855317431170806"
          }
        },
        "colab": {
          "base_uri": "https://localhost:8080/",
          "height": 429
        },
        "pycharm": {
          "is_executing": false
        }
      },
      "source": "import pydotplus as pydotplus\ndf \u003d pd.read_csv(\u0027diabetes.csv\u0027)\ndf.head()",
      "execution_count": 2,
      "outputs": [
        {
          "data": {
            "text/plain": "   Pregnancies  Glucose  BloodPressure  SkinThickness  Insulin   BMI  \\\n0            6      148             72             35        0  33.6   \n1            1       85             66             29        0  26.6   \n2            8      183             64              0        0  23.3   \n3            1       89             66             23       94  28.1   \n4            0      137             40             35      168  43.1   \n\n   DiabetesPedigreeFunction  Age  Outcome  \n0                     0.627   50        1  \n1                     0.351   31        0  \n2                     0.672   32        1  \n3                     0.167   21        0  \n4                     2.288   33        1  ",
            "text/html": "\u003cdiv\u003e\n\u003cstyle scoped\u003e\n    .dataframe tbody tr th:only-of-type {\n        vertical-align: middle;\n    }\n\n    .dataframe tbody tr th {\n        vertical-align: top;\n    }\n\n    .dataframe thead th {\n        text-align: right;\n    }\n\u003c/style\u003e\n\u003ctable border\u003d\"1\" class\u003d\"dataframe\"\u003e\n  \u003cthead\u003e\n    \u003ctr style\u003d\"text-align: right;\"\u003e\n      \u003cth\u003e\u003c/th\u003e\n      \u003cth\u003ePregnancies\u003c/th\u003e\n      \u003cth\u003eGlucose\u003c/th\u003e\n      \u003cth\u003eBloodPressure\u003c/th\u003e\n      \u003cth\u003eSkinThickness\u003c/th\u003e\n      \u003cth\u003eInsulin\u003c/th\u003e\n      \u003cth\u003eBMI\u003c/th\u003e\n      \u003cth\u003eDiabetesPedigreeFunction\u003c/th\u003e\n      \u003cth\u003eAge\u003c/th\u003e\n      \u003cth\u003eOutcome\u003c/th\u003e\n    \u003c/tr\u003e\n  \u003c/thead\u003e\n  \u003ctbody\u003e\n    \u003ctr\u003e\n      \u003cth\u003e0\u003c/th\u003e\n      \u003ctd\u003e6\u003c/td\u003e\n      \u003ctd\u003e148\u003c/td\u003e\n      \u003ctd\u003e72\u003c/td\u003e\n      \u003ctd\u003e35\u003c/td\u003e\n      \u003ctd\u003e0\u003c/td\u003e\n      \u003ctd\u003e33.6\u003c/td\u003e\n      \u003ctd\u003e0.627\u003c/td\u003e\n      \u003ctd\u003e50\u003c/td\u003e\n      \u003ctd\u003e1\u003c/td\u003e\n    \u003c/tr\u003e\n    \u003ctr\u003e\n      \u003cth\u003e1\u003c/th\u003e\n      \u003ctd\u003e1\u003c/td\u003e\n      \u003ctd\u003e85\u003c/td\u003e\n      \u003ctd\u003e66\u003c/td\u003e\n      \u003ctd\u003e29\u003c/td\u003e\n      \u003ctd\u003e0\u003c/td\u003e\n      \u003ctd\u003e26.6\u003c/td\u003e\n      \u003ctd\u003e0.351\u003c/td\u003e\n      \u003ctd\u003e31\u003c/td\u003e\n      \u003ctd\u003e0\u003c/td\u003e\n    \u003c/tr\u003e\n    \u003ctr\u003e\n      \u003cth\u003e2\u003c/th\u003e\n      \u003ctd\u003e8\u003c/td\u003e\n      \u003ctd\u003e183\u003c/td\u003e\n      \u003ctd\u003e64\u003c/td\u003e\n      \u003ctd\u003e0\u003c/td\u003e\n      \u003ctd\u003e0\u003c/td\u003e\n      \u003ctd\u003e23.3\u003c/td\u003e\n      \u003ctd\u003e0.672\u003c/td\u003e\n      \u003ctd\u003e32\u003c/td\u003e\n      \u003ctd\u003e1\u003c/td\u003e\n    \u003c/tr\u003e\n    \u003ctr\u003e\n      \u003cth\u003e3\u003c/th\u003e\n      \u003ctd\u003e1\u003c/td\u003e\n      \u003ctd\u003e89\u003c/td\u003e\n      \u003ctd\u003e66\u003c/td\u003e\n      \u003ctd\u003e23\u003c/td\u003e\n      \u003ctd\u003e94\u003c/td\u003e\n      \u003ctd\u003e28.1\u003c/td\u003e\n      \u003ctd\u003e0.167\u003c/td\u003e\n      \u003ctd\u003e21\u003c/td\u003e\n      \u003ctd\u003e0\u003c/td\u003e\n    \u003c/tr\u003e\n    \u003ctr\u003e\n      \u003cth\u003e4\u003c/th\u003e\n      \u003ctd\u003e0\u003c/td\u003e\n      \u003ctd\u003e137\u003c/td\u003e\n      \u003ctd\u003e40\u003c/td\u003e\n      \u003ctd\u003e35\u003c/td\u003e\n      \u003ctd\u003e168\u003c/td\u003e\n      \u003ctd\u003e43.1\u003c/td\u003e\n      \u003ctd\u003e2.288\u003c/td\u003e\n      \u003ctd\u003e33\u003c/td\u003e\n      \u003ctd\u003e1\u003c/td\u003e\n    \u003c/tr\u003e\n  \u003c/tbody\u003e\n\u003c/table\u003e\n\u003c/div\u003e"
          },
          "metadata": {},
          "output_type": "execute_result",
          "execution_count": 2
        }
      ]
    },
    {
      "cell_type": "markdown",
      "metadata": {
        "id": "oE4-WddisdTu",
        "colab_type": "text",
        "pycharm": {}
      },
      "source": [
        "# Data inputation\n",
        "\n",
        "## Analyze column contents"
      ]
    },
    {
      "cell_type": "code",
      "metadata": {
        "id": "JkKttGjXsdTu",
        "colab_type": "code",
        "outputId": "d11d5916-b16e-4904-d879-a23902c9f566",
        "colab": {},
        "pycharm": {
          "is_executing": false
        }
      },
      "source": [
        "print(\"Percentage of 0s\")\n",
        "print(\"Pregnancies: \", df[df.Pregnancies \u003d\u003d 0].Pregnancies.count()/df.Pregnancies.count(), \"%\")\n",
        "print(\"Glucose: \", df[df.Glucose \u003d\u003d 0].Glucose.count()/df.Glucose.count(), \"%\")\n",
        "print(\"BloodPressure: \", df[df.BloodPressure \u003d\u003d 0].BloodPressure.count()/df.Glucose.count(), \"%\")\n",
        "print(\"SkinThickness: \", df[df.SkinThickness \u003d\u003d 0].SkinThickness.count()/df.SkinThickness.count(), \"%\")\n",
        "print(\"Insulin: \", df[df.Insulin \u003d\u003d 0].Insulin.count()/df.Insulin.count(), \"%\")\n",
        "print(\"BMI: \", df[df.BMI \u003d\u003d 0].BMI.count()/df.BMI.count(), \"%\")\n",
        "print(\"DiabetesPedigreeFunction: \", df[df.DiabetesPedigreeFunction \u003d\u003d 0].DiabetesPedigreeFunction.count()/df.DiabetesPedigreeFunction.count(), \"%\")\n",
        "print(\"Age: \", df[df.Age \u003d\u003d 0].Age.count()/df.Age.count(), \"%\")"
      ],
      "execution_count": 3,
      "outputs": [
        {
          "name": "stdout",
          "text": [
            "Percentage of 0s\nPregnancies:  0.14453125 %\nGlucose:  0.006510416666666667 %\nBloodPressure:  0.045572916666666664 %\nSkinThickness:  0.2955729166666667 %\nInsulin:  0.4869791666666667 %\nBMI:  0.014322916666666666 %\nDiabetesPedigreeFunction:  0.0 %\nAge:  0.0 %\n"
          ],
          "output_type": "stream"
        }
      ]
    },
    {
      "cell_type": "code",
      "metadata": {
        "id": "PqUygW77sdTx",
        "colab_type": "code",
        "outputId": "386ec75f-58ba-4ed4-ef1e-b069154f7701",
        "colab": {},
        "pycharm": {
          "is_executing": false
        }
      },
      "source": [
        "print(\"Mean value (not counting the 0s)\")\n",
        "print(\"Pregnancies: \", df[df.Pregnancies !\u003d 0].Pregnancies.mean())\n",
        "print(\"Glucose: \",df[df.Glucose !\u003d 0].Glucose.mean())\n",
        "print(\"BloodPressure: \", df[df.BloodPressure !\u003d 0].BloodPressure.mean())\n",
        "print(\"SkinThickess: \", df[df.SkinThickness !\u003d 0].SkinThickness.mean())\n",
        "print(\"Insulin: \", df[df.Insulin !\u003d 0].Insulin.mean())\n",
        "print(\"BMI: \", df[df.BMI !\u003d 0].BMI.mean())"
      ],
      "execution_count": 4,
      "outputs": [
        {
          "name": "stdout",
          "text": [
            "Mean value (not counting the 0s)\n",
            "Pregnancies:  4.494672754946728\nGlucose:  121.6867627785059\nBloodPressure:  72.40518417462484\nSkinThickess:  29.153419593345657\nInsulin:  155.5482233502538\nBMI:  32.457463672391015\n"
          ],
          "output_type": "stream"
        }
      ]
    },
    {
      "cell_type": "code",
      "metadata": {
        "id": "F8T2lNhesdT0",
        "colab_type": "code",
        "outputId": "84c1ec9d-db72-4989-d6ff-81236cd2c631",
        "colab": {},
        "pycharm": {
          "is_executing": false
        }
      },
      "source": [
        "df.head()"
      ],
      "execution_count": 5,
      "outputs": [
        {
          "data": {
            "text/plain": "   Pregnancies  Glucose  BloodPressure  SkinThickness  Insulin   BMI  \\\n0            6      148             72             35        0  33.6   \n1            1       85             66             29        0  26.6   \n2            8      183             64              0        0  23.3   \n3            1       89             66             23       94  28.1   \n4            0      137             40             35      168  43.1   \n\n   DiabetesPedigreeFunction  Age  Outcome  \n0                     0.627   50        1  \n1                     0.351   31        0  \n2                     0.672   32        1  \n3                     0.167   21        0  \n4                     2.288   33        1  ",
            "text/html": "\u003cdiv\u003e\n\u003cstyle scoped\u003e\n    .dataframe tbody tr th:only-of-type {\n        vertical-align: middle;\n    }\n\n    .dataframe tbody tr th {\n        vertical-align: top;\n    }\n\n    .dataframe thead th {\n        text-align: right;\n    }\n\u003c/style\u003e\n\u003ctable border\u003d\"1\" class\u003d\"dataframe\"\u003e\n  \u003cthead\u003e\n    \u003ctr style\u003d\"text-align: right;\"\u003e\n      \u003cth\u003e\u003c/th\u003e\n      \u003cth\u003ePregnancies\u003c/th\u003e\n      \u003cth\u003eGlucose\u003c/th\u003e\n      \u003cth\u003eBloodPressure\u003c/th\u003e\n      \u003cth\u003eSkinThickness\u003c/th\u003e\n      \u003cth\u003eInsulin\u003c/th\u003e\n      \u003cth\u003eBMI\u003c/th\u003e\n      \u003cth\u003eDiabetesPedigreeFunction\u003c/th\u003e\n      \u003cth\u003eAge\u003c/th\u003e\n      \u003cth\u003eOutcome\u003c/th\u003e\n    \u003c/tr\u003e\n  \u003c/thead\u003e\n  \u003ctbody\u003e\n    \u003ctr\u003e\n      \u003cth\u003e0\u003c/th\u003e\n      \u003ctd\u003e6\u003c/td\u003e\n      \u003ctd\u003e148\u003c/td\u003e\n      \u003ctd\u003e72\u003c/td\u003e\n      \u003ctd\u003e35\u003c/td\u003e\n      \u003ctd\u003e0\u003c/td\u003e\n      \u003ctd\u003e33.6\u003c/td\u003e\n      \u003ctd\u003e0.627\u003c/td\u003e\n      \u003ctd\u003e50\u003c/td\u003e\n      \u003ctd\u003e1\u003c/td\u003e\n    \u003c/tr\u003e\n    \u003ctr\u003e\n      \u003cth\u003e1\u003c/th\u003e\n      \u003ctd\u003e1\u003c/td\u003e\n      \u003ctd\u003e85\u003c/td\u003e\n      \u003ctd\u003e66\u003c/td\u003e\n      \u003ctd\u003e29\u003c/td\u003e\n      \u003ctd\u003e0\u003c/td\u003e\n      \u003ctd\u003e26.6\u003c/td\u003e\n      \u003ctd\u003e0.351\u003c/td\u003e\n      \u003ctd\u003e31\u003c/td\u003e\n      \u003ctd\u003e0\u003c/td\u003e\n    \u003c/tr\u003e\n    \u003ctr\u003e\n      \u003cth\u003e2\u003c/th\u003e\n      \u003ctd\u003e8\u003c/td\u003e\n      \u003ctd\u003e183\u003c/td\u003e\n      \u003ctd\u003e64\u003c/td\u003e\n      \u003ctd\u003e0\u003c/td\u003e\n      \u003ctd\u003e0\u003c/td\u003e\n      \u003ctd\u003e23.3\u003c/td\u003e\n      \u003ctd\u003e0.672\u003c/td\u003e\n      \u003ctd\u003e32\u003c/td\u003e\n      \u003ctd\u003e1\u003c/td\u003e\n    \u003c/tr\u003e\n    \u003ctr\u003e\n      \u003cth\u003e3\u003c/th\u003e\n      \u003ctd\u003e1\u003c/td\u003e\n      \u003ctd\u003e89\u003c/td\u003e\n      \u003ctd\u003e66\u003c/td\u003e\n      \u003ctd\u003e23\u003c/td\u003e\n      \u003ctd\u003e94\u003c/td\u003e\n      \u003ctd\u003e28.1\u003c/td\u003e\n      \u003ctd\u003e0.167\u003c/td\u003e\n      \u003ctd\u003e21\u003c/td\u003e\n      \u003ctd\u003e0\u003c/td\u003e\n    \u003c/tr\u003e\n    \u003ctr\u003e\n      \u003cth\u003e4\u003c/th\u003e\n      \u003ctd\u003e0\u003c/td\u003e\n      \u003ctd\u003e137\u003c/td\u003e\n      \u003ctd\u003e40\u003c/td\u003e\n      \u003ctd\u003e35\u003c/td\u003e\n      \u003ctd\u003e168\u003c/td\u003e\n      \u003ctd\u003e43.1\u003c/td\u003e\n      \u003ctd\u003e2.288\u003c/td\u003e\n      \u003ctd\u003e33\u003c/td\u003e\n      \u003ctd\u003e1\u003c/td\u003e\n    \u003c/tr\u003e\n  \u003c/tbody\u003e\n\u003c/table\u003e\n\u003c/div\u003e"
          },
          "metadata": {},
          "output_type": "execute_result",
          "execution_count": 5
        }
      ]
    },
    {
      "cell_type": "markdown",
      "metadata": {
        "id": "_jhugKbIsdT2",
        "colab_type": "text",
        "pycharm": {}
      },
      "source": [
        "Fill all the 0 values in Glucose, BloodPressure, SkinThickness, Insulin and BMI with the mean value of the observations where the value isn\u0027t 0"
      ]
    },
    {
      "cell_type": "code",
      "metadata": {
        "id": "af4JtM8lsdT3",
        "colab_type": "code",
        "colab": {},
        "pycharm": {
          "is_executing": false
        }
      },
      "source": [
        "df.Glucose \u003d df.Glucose.replace(0, df[df.Glucose !\u003d 0].Glucose.mean())\n",
        "df.BloodPressure \u003d df.BloodPressure.replace(0, df[df.BloodPressure !\u003d 0].BloodPressure.mean())\n",
        "df.SkinThickness \u003d df.SkinThickness.replace(0, df[df.SkinThickness !\u003d 0].SkinThickness.mean())\n",
        "df.Insulin \u003d df.Insulin.replace(0, df[df.Insulin !\u003d 0].Insulin.mean())\n",
        "df.BMI \u003d df.BMI.replace(0, df[df.BMI !\u003d 0].BMI.mean())"
      ],
      "execution_count": 6,
      "outputs": []
    },
    {
      "cell_type": "code",
      "metadata": {
        "id": "nvGX7HyHsdT5",
        "colab_type": "code",
        "outputId": "300b921d-d236-424d-a649-3375fc958ed2",
        "colab": {},
        "pycharm": {
          "is_executing": false
        }
      },
      "source": [
        "df.head()"
      ],
      "execution_count": 7,
      "outputs": [
        {
          "data": {
            "text/plain": "   Pregnancies  Glucose  BloodPressure  SkinThickness     Insulin   BMI  \\\n0            6    148.0           72.0       35.00000  155.548223  33.6   \n1            1     85.0           66.0       29.00000  155.548223  26.6   \n2            8    183.0           64.0       29.15342  155.548223  23.3   \n3            1     89.0           66.0       23.00000   94.000000  28.1   \n4            0    137.0           40.0       35.00000  168.000000  43.1   \n\n   DiabetesPedigreeFunction  Age  Outcome  \n0                     0.627   50        1  \n1                     0.351   31        0  \n2                     0.672   32        1  \n3                     0.167   21        0  \n4                     2.288   33        1  ",
            "text/html": "\u003cdiv\u003e\n\u003cstyle scoped\u003e\n    .dataframe tbody tr th:only-of-type {\n        vertical-align: middle;\n    }\n\n    .dataframe tbody tr th {\n        vertical-align: top;\n    }\n\n    .dataframe thead th {\n        text-align: right;\n    }\n\u003c/style\u003e\n\u003ctable border\u003d\"1\" class\u003d\"dataframe\"\u003e\n  \u003cthead\u003e\n    \u003ctr style\u003d\"text-align: right;\"\u003e\n      \u003cth\u003e\u003c/th\u003e\n      \u003cth\u003ePregnancies\u003c/th\u003e\n      \u003cth\u003eGlucose\u003c/th\u003e\n      \u003cth\u003eBloodPressure\u003c/th\u003e\n      \u003cth\u003eSkinThickness\u003c/th\u003e\n      \u003cth\u003eInsulin\u003c/th\u003e\n      \u003cth\u003eBMI\u003c/th\u003e\n      \u003cth\u003eDiabetesPedigreeFunction\u003c/th\u003e\n      \u003cth\u003eAge\u003c/th\u003e\n      \u003cth\u003eOutcome\u003c/th\u003e\n    \u003c/tr\u003e\n  \u003c/thead\u003e\n  \u003ctbody\u003e\n    \u003ctr\u003e\n      \u003cth\u003e0\u003c/th\u003e\n      \u003ctd\u003e6\u003c/td\u003e\n      \u003ctd\u003e148.0\u003c/td\u003e\n      \u003ctd\u003e72.0\u003c/td\u003e\n      \u003ctd\u003e35.00000\u003c/td\u003e\n      \u003ctd\u003e155.548223\u003c/td\u003e\n      \u003ctd\u003e33.6\u003c/td\u003e\n      \u003ctd\u003e0.627\u003c/td\u003e\n      \u003ctd\u003e50\u003c/td\u003e\n      \u003ctd\u003e1\u003c/td\u003e\n    \u003c/tr\u003e\n    \u003ctr\u003e\n      \u003cth\u003e1\u003c/th\u003e\n      \u003ctd\u003e1\u003c/td\u003e\n      \u003ctd\u003e85.0\u003c/td\u003e\n      \u003ctd\u003e66.0\u003c/td\u003e\n      \u003ctd\u003e29.00000\u003c/td\u003e\n      \u003ctd\u003e155.548223\u003c/td\u003e\n      \u003ctd\u003e26.6\u003c/td\u003e\n      \u003ctd\u003e0.351\u003c/td\u003e\n      \u003ctd\u003e31\u003c/td\u003e\n      \u003ctd\u003e0\u003c/td\u003e\n    \u003c/tr\u003e\n    \u003ctr\u003e\n      \u003cth\u003e2\u003c/th\u003e\n      \u003ctd\u003e8\u003c/td\u003e\n      \u003ctd\u003e183.0\u003c/td\u003e\n      \u003ctd\u003e64.0\u003c/td\u003e\n      \u003ctd\u003e29.15342\u003c/td\u003e\n      \u003ctd\u003e155.548223\u003c/td\u003e\n      \u003ctd\u003e23.3\u003c/td\u003e\n      \u003ctd\u003e0.672\u003c/td\u003e\n      \u003ctd\u003e32\u003c/td\u003e\n      \u003ctd\u003e1\u003c/td\u003e\n    \u003c/tr\u003e\n    \u003ctr\u003e\n      \u003cth\u003e3\u003c/th\u003e\n      \u003ctd\u003e1\u003c/td\u003e\n      \u003ctd\u003e89.0\u003c/td\u003e\n      \u003ctd\u003e66.0\u003c/td\u003e\n      \u003ctd\u003e23.00000\u003c/td\u003e\n      \u003ctd\u003e94.000000\u003c/td\u003e\n      \u003ctd\u003e28.1\u003c/td\u003e\n      \u003ctd\u003e0.167\u003c/td\u003e\n      \u003ctd\u003e21\u003c/td\u003e\n      \u003ctd\u003e0\u003c/td\u003e\n    \u003c/tr\u003e\n    \u003ctr\u003e\n      \u003cth\u003e4\u003c/th\u003e\n      \u003ctd\u003e0\u003c/td\u003e\n      \u003ctd\u003e137.0\u003c/td\u003e\n      \u003ctd\u003e40.0\u003c/td\u003e\n      \u003ctd\u003e35.00000\u003c/td\u003e\n      \u003ctd\u003e168.000000\u003c/td\u003e\n      \u003ctd\u003e43.1\u003c/td\u003e\n      \u003ctd\u003e2.288\u003c/td\u003e\n      \u003ctd\u003e33\u003c/td\u003e\n      \u003ctd\u003e1\u003c/td\u003e\n    \u003c/tr\u003e\n  \u003c/tbody\u003e\n\u003c/table\u003e\n\u003c/div\u003e"
          },
          "metadata": {},
          "output_type": "execute_result",
          "execution_count": 7
        }
      ]
    },
    {
      "cell_type": "code",
      "metadata": {
        "id": "vx99W0O9sdT7",
        "colab_type": "code",
        "outputId": "46e44eec-7e89-41aa-fd66-2590be440cc6",
        "colab": {},
        "pycharm": {
          "is_executing": false
        }
      },
      "source": [
        "df.describe()"
      ],
      "execution_count": 8,
      "outputs": [
        {
          "data": {
            "text/plain": "       Pregnancies     Glucose  BloodPressure  SkinThickness     Insulin  \\\ncount   768.000000  768.000000     768.000000     768.000000  768.000000   \nmean      3.845052  121.686763      72.405184      29.153420  155.548223   \nstd       3.369578   30.435949      12.096346       8.790942   85.021108   \nmin       0.000000   44.000000      24.000000       7.000000   14.000000   \n25%       1.000000   99.750000      64.000000      25.000000  121.500000   \n50%       3.000000  117.000000      72.202592      29.153420  155.548223   \n75%       6.000000  140.250000      80.000000      32.000000  155.548223   \nmax      17.000000  199.000000     122.000000      99.000000  846.000000   \n\n              BMI  DiabetesPedigreeFunction         Age     Outcome  \ncount  768.000000                768.000000  768.000000  768.000000  \nmean    32.457464                  0.471876   33.240885    0.348958  \nstd      6.875151                  0.331329   11.760232    0.476951  \nmin     18.200000                  0.078000   21.000000    0.000000  \n25%     27.500000                  0.243750   24.000000    0.000000  \n50%     32.400000                  0.372500   29.000000    0.000000  \n75%     36.600000                  0.626250   41.000000    1.000000  \nmax     67.100000                  2.420000   81.000000    1.000000  ",
            "text/html": "\u003cdiv\u003e\n\u003cstyle scoped\u003e\n    .dataframe tbody tr th:only-of-type {\n        vertical-align: middle;\n    }\n\n    .dataframe tbody tr th {\n        vertical-align: top;\n    }\n\n    .dataframe thead th {\n        text-align: right;\n    }\n\u003c/style\u003e\n\u003ctable border\u003d\"1\" class\u003d\"dataframe\"\u003e\n  \u003cthead\u003e\n    \u003ctr style\u003d\"text-align: right;\"\u003e\n      \u003cth\u003e\u003c/th\u003e\n      \u003cth\u003ePregnancies\u003c/th\u003e\n      \u003cth\u003eGlucose\u003c/th\u003e\n      \u003cth\u003eBloodPressure\u003c/th\u003e\n      \u003cth\u003eSkinThickness\u003c/th\u003e\n      \u003cth\u003eInsulin\u003c/th\u003e\n      \u003cth\u003eBMI\u003c/th\u003e\n      \u003cth\u003eDiabetesPedigreeFunction\u003c/th\u003e\n      \u003cth\u003eAge\u003c/th\u003e\n      \u003cth\u003eOutcome\u003c/th\u003e\n    \u003c/tr\u003e\n  \u003c/thead\u003e\n  \u003ctbody\u003e\n    \u003ctr\u003e\n      \u003cth\u003ecount\u003c/th\u003e\n      \u003ctd\u003e768.000000\u003c/td\u003e\n      \u003ctd\u003e768.000000\u003c/td\u003e\n      \u003ctd\u003e768.000000\u003c/td\u003e\n      \u003ctd\u003e768.000000\u003c/td\u003e\n      \u003ctd\u003e768.000000\u003c/td\u003e\n      \u003ctd\u003e768.000000\u003c/td\u003e\n      \u003ctd\u003e768.000000\u003c/td\u003e\n      \u003ctd\u003e768.000000\u003c/td\u003e\n      \u003ctd\u003e768.000000\u003c/td\u003e\n    \u003c/tr\u003e\n    \u003ctr\u003e\n      \u003cth\u003emean\u003c/th\u003e\n      \u003ctd\u003e3.845052\u003c/td\u003e\n      \u003ctd\u003e121.686763\u003c/td\u003e\n      \u003ctd\u003e72.405184\u003c/td\u003e\n      \u003ctd\u003e29.153420\u003c/td\u003e\n      \u003ctd\u003e155.548223\u003c/td\u003e\n      \u003ctd\u003e32.457464\u003c/td\u003e\n      \u003ctd\u003e0.471876\u003c/td\u003e\n      \u003ctd\u003e33.240885\u003c/td\u003e\n      \u003ctd\u003e0.348958\u003c/td\u003e\n    \u003c/tr\u003e\n    \u003ctr\u003e\n      \u003cth\u003estd\u003c/th\u003e\n      \u003ctd\u003e3.369578\u003c/td\u003e\n      \u003ctd\u003e30.435949\u003c/td\u003e\n      \u003ctd\u003e12.096346\u003c/td\u003e\n      \u003ctd\u003e8.790942\u003c/td\u003e\n      \u003ctd\u003e85.021108\u003c/td\u003e\n      \u003ctd\u003e6.875151\u003c/td\u003e\n      \u003ctd\u003e0.331329\u003c/td\u003e\n      \u003ctd\u003e11.760232\u003c/td\u003e\n      \u003ctd\u003e0.476951\u003c/td\u003e\n    \u003c/tr\u003e\n    \u003ctr\u003e\n      \u003cth\u003emin\u003c/th\u003e\n      \u003ctd\u003e0.000000\u003c/td\u003e\n      \u003ctd\u003e44.000000\u003c/td\u003e\n      \u003ctd\u003e24.000000\u003c/td\u003e\n      \u003ctd\u003e7.000000\u003c/td\u003e\n      \u003ctd\u003e14.000000\u003c/td\u003e\n      \u003ctd\u003e18.200000\u003c/td\u003e\n      \u003ctd\u003e0.078000\u003c/td\u003e\n      \u003ctd\u003e21.000000\u003c/td\u003e\n      \u003ctd\u003e0.000000\u003c/td\u003e\n    \u003c/tr\u003e\n    \u003ctr\u003e\n      \u003cth\u003e25%\u003c/th\u003e\n      \u003ctd\u003e1.000000\u003c/td\u003e\n      \u003ctd\u003e99.750000\u003c/td\u003e\n      \u003ctd\u003e64.000000\u003c/td\u003e\n      \u003ctd\u003e25.000000\u003c/td\u003e\n      \u003ctd\u003e121.500000\u003c/td\u003e\n      \u003ctd\u003e27.500000\u003c/td\u003e\n      \u003ctd\u003e0.243750\u003c/td\u003e\n      \u003ctd\u003e24.000000\u003c/td\u003e\n      \u003ctd\u003e0.000000\u003c/td\u003e\n    \u003c/tr\u003e\n    \u003ctr\u003e\n      \u003cth\u003e50%\u003c/th\u003e\n      \u003ctd\u003e3.000000\u003c/td\u003e\n      \u003ctd\u003e117.000000\u003c/td\u003e\n      \u003ctd\u003e72.202592\u003c/td\u003e\n      \u003ctd\u003e29.153420\u003c/td\u003e\n      \u003ctd\u003e155.548223\u003c/td\u003e\n      \u003ctd\u003e32.400000\u003c/td\u003e\n      \u003ctd\u003e0.372500\u003c/td\u003e\n      \u003ctd\u003e29.000000\u003c/td\u003e\n      \u003ctd\u003e0.000000\u003c/td\u003e\n    \u003c/tr\u003e\n    \u003ctr\u003e\n      \u003cth\u003e75%\u003c/th\u003e\n      \u003ctd\u003e6.000000\u003c/td\u003e\n      \u003ctd\u003e140.250000\u003c/td\u003e\n      \u003ctd\u003e80.000000\u003c/td\u003e\n      \u003ctd\u003e32.000000\u003c/td\u003e\n      \u003ctd\u003e155.548223\u003c/td\u003e\n      \u003ctd\u003e36.600000\u003c/td\u003e\n      \u003ctd\u003e0.626250\u003c/td\u003e\n      \u003ctd\u003e41.000000\u003c/td\u003e\n      \u003ctd\u003e1.000000\u003c/td\u003e\n    \u003c/tr\u003e\n    \u003ctr\u003e\n      \u003cth\u003emax\u003c/th\u003e\n      \u003ctd\u003e17.000000\u003c/td\u003e\n      \u003ctd\u003e199.000000\u003c/td\u003e\n      \u003ctd\u003e122.000000\u003c/td\u003e\n      \u003ctd\u003e99.000000\u003c/td\u003e\n      \u003ctd\u003e846.000000\u003c/td\u003e\n      \u003ctd\u003e67.100000\u003c/td\u003e\n      \u003ctd\u003e2.420000\u003c/td\u003e\n      \u003ctd\u003e81.000000\u003c/td\u003e\n      \u003ctd\u003e1.000000\u003c/td\u003e\n    \u003c/tr\u003e\n  \u003c/tbody\u003e\n\u003c/table\u003e\n\u003c/div\u003e"
          },
          "metadata": {},
          "output_type": "execute_result",
          "execution_count": 8
        }
      ]
    },
    {
      "cell_type": "markdown",
      "metadata": {
        "id": "JzVaILCPsdT-",
        "colab_type": "text",
        "pycharm": {}
      },
      "source": [
        "## Scaling the data"
      ]
    },
    {
      "cell_type": "code",
      "metadata": {
        "id": "tGVnQBzvsdT_",
        "colab_type": "code",
        "colab": {},
        "pycharm": {
          "is_executing": false
        }
      },
      "source": [
        "from sklearn.preprocessing import MinMaxScaler\n",
        "scaler \u003d MinMaxScaler()\n",
        "df_scaled \u003d pd.DataFrame(scaler.fit_transform(df), columns\u003ddf.columns)"
      ],
      "execution_count": 9,
      "outputs": []
    },
    {
      "cell_type": "code",
      "metadata": {
        "id": "Mms1i7XisdUC",
        "colab_type": "code",
        "outputId": "fe22fe5c-5730-4339-c6b2-90d80d419b25",
        "colab": {},
        "pycharm": {
          "is_executing": false
        }
      },
      "source": [
        "df_scaled.head()"
      ],
      "execution_count": 10,
      "outputs": [
        {
          "data": {
            "text/plain": "   Pregnancies   Glucose  BloodPressure  SkinThickness   Insulin       BMI  \\\n0     0.352941  0.670968       0.489796       0.304348  0.170130  0.314928   \n1     0.058824  0.264516       0.428571       0.239130  0.170130  0.171779   \n2     0.470588  0.896774       0.408163       0.240798  0.170130  0.104294   \n3     0.058824  0.290323       0.428571       0.173913  0.096154  0.202454   \n4     0.000000  0.600000       0.163265       0.304348  0.185096  0.509202   \n\n   DiabetesPedigreeFunction       Age  Outcome  \n0                  0.234415  0.483333      1.0  \n1                  0.116567  0.166667      0.0  \n2                  0.253629  0.183333      1.0  \n3                  0.038002  0.000000      0.0  \n4                  0.943638  0.200000      1.0  ",
            "text/html": "\u003cdiv\u003e\n\u003cstyle scoped\u003e\n    .dataframe tbody tr th:only-of-type {\n        vertical-align: middle;\n    }\n\n    .dataframe tbody tr th {\n        vertical-align: top;\n    }\n\n    .dataframe thead th {\n        text-align: right;\n    }\n\u003c/style\u003e\n\u003ctable border\u003d\"1\" class\u003d\"dataframe\"\u003e\n  \u003cthead\u003e\n    \u003ctr style\u003d\"text-align: right;\"\u003e\n      \u003cth\u003e\u003c/th\u003e\n      \u003cth\u003ePregnancies\u003c/th\u003e\n      \u003cth\u003eGlucose\u003c/th\u003e\n      \u003cth\u003eBloodPressure\u003c/th\u003e\n      \u003cth\u003eSkinThickness\u003c/th\u003e\n      \u003cth\u003eInsulin\u003c/th\u003e\n      \u003cth\u003eBMI\u003c/th\u003e\n      \u003cth\u003eDiabetesPedigreeFunction\u003c/th\u003e\n      \u003cth\u003eAge\u003c/th\u003e\n      \u003cth\u003eOutcome\u003c/th\u003e\n    \u003c/tr\u003e\n  \u003c/thead\u003e\n  \u003ctbody\u003e\n    \u003ctr\u003e\n      \u003cth\u003e0\u003c/th\u003e\n      \u003ctd\u003e0.352941\u003c/td\u003e\n      \u003ctd\u003e0.670968\u003c/td\u003e\n      \u003ctd\u003e0.489796\u003c/td\u003e\n      \u003ctd\u003e0.304348\u003c/td\u003e\n      \u003ctd\u003e0.170130\u003c/td\u003e\n      \u003ctd\u003e0.314928\u003c/td\u003e\n      \u003ctd\u003e0.234415\u003c/td\u003e\n      \u003ctd\u003e0.483333\u003c/td\u003e\n      \u003ctd\u003e1.0\u003c/td\u003e\n    \u003c/tr\u003e\n    \u003ctr\u003e\n      \u003cth\u003e1\u003c/th\u003e\n      \u003ctd\u003e0.058824\u003c/td\u003e\n      \u003ctd\u003e0.264516\u003c/td\u003e\n      \u003ctd\u003e0.428571\u003c/td\u003e\n      \u003ctd\u003e0.239130\u003c/td\u003e\n      \u003ctd\u003e0.170130\u003c/td\u003e\n      \u003ctd\u003e0.171779\u003c/td\u003e\n      \u003ctd\u003e0.116567\u003c/td\u003e\n      \u003ctd\u003e0.166667\u003c/td\u003e\n      \u003ctd\u003e0.0\u003c/td\u003e\n    \u003c/tr\u003e\n    \u003ctr\u003e\n      \u003cth\u003e2\u003c/th\u003e\n      \u003ctd\u003e0.470588\u003c/td\u003e\n      \u003ctd\u003e0.896774\u003c/td\u003e\n      \u003ctd\u003e0.408163\u003c/td\u003e\n      \u003ctd\u003e0.240798\u003c/td\u003e\n      \u003ctd\u003e0.170130\u003c/td\u003e\n      \u003ctd\u003e0.104294\u003c/td\u003e\n      \u003ctd\u003e0.253629\u003c/td\u003e\n      \u003ctd\u003e0.183333\u003c/td\u003e\n      \u003ctd\u003e1.0\u003c/td\u003e\n    \u003c/tr\u003e\n    \u003ctr\u003e\n      \u003cth\u003e3\u003c/th\u003e\n      \u003ctd\u003e0.058824\u003c/td\u003e\n      \u003ctd\u003e0.290323\u003c/td\u003e\n      \u003ctd\u003e0.428571\u003c/td\u003e\n      \u003ctd\u003e0.173913\u003c/td\u003e\n      \u003ctd\u003e0.096154\u003c/td\u003e\n      \u003ctd\u003e0.202454\u003c/td\u003e\n      \u003ctd\u003e0.038002\u003c/td\u003e\n      \u003ctd\u003e0.000000\u003c/td\u003e\n      \u003ctd\u003e0.0\u003c/td\u003e\n    \u003c/tr\u003e\n    \u003ctr\u003e\n      \u003cth\u003e4\u003c/th\u003e\n      \u003ctd\u003e0.000000\u003c/td\u003e\n      \u003ctd\u003e0.600000\u003c/td\u003e\n      \u003ctd\u003e0.163265\u003c/td\u003e\n      \u003ctd\u003e0.304348\u003c/td\u003e\n      \u003ctd\u003e0.185096\u003c/td\u003e\n      \u003ctd\u003e0.509202\u003c/td\u003e\n      \u003ctd\u003e0.943638\u003c/td\u003e\n      \u003ctd\u003e0.200000\u003c/td\u003e\n      \u003ctd\u003e1.0\u003c/td\u003e\n    \u003c/tr\u003e\n  \u003c/tbody\u003e\n\u003c/table\u003e\n\u003c/div\u003e"
          },
          "metadata": {},
          "output_type": "execute_result",
          "execution_count": 10
        }
      ]
    },
    {
      "cell_type": "markdown",
      "metadata": {
        "id": "nHSheLBgsdUG",
        "colab_type": "text",
        "pycharm": {}
      },
      "source": [
        "## Separate into Test and Train Datasets"
      ]
    },
    {
      "cell_type": "code",
      "metadata": {
        "id": "Pe0TzndksdUH",
        "colab_type": "code",
        "colab": {},
        "pycharm": {
          "is_executing": false
        }
      },
      "source": [
        "#from sklearn.model_selection import train_test_split\n",
        "#train, test \u003d train_test_split(df_scaled, test_size\u003d0.25)"
      ],
      "execution_count": 11,
      "outputs": []
    },
    {
      "cell_type": "code",
      "metadata": {
        "id": "PQnV9EJSsdUI",
        "colab_type": "code",
        "outputId": "114ab45d-4d02-476e-bf1e-b0b4826b72b2",
        "colab": {},
        "pycharm": {
          "is_executing": false
        }
      },
      "source": [
        "df_scaled.shape"
      ],
      "execution_count": 12,
      "outputs": [
        {
          "data": {
            "text/plain": "(768, 9)"
          },
          "metadata": {},
          "output_type": "execute_result",
          "execution_count": 12
        }
      ]
    },
    {
      "cell_type": "code",
      "metadata": {
        "id": "fqhHeh0IsdUL",
        "colab_type": "code",
        "outputId": "aa978db4-7c11-4d60-90e8-9b594e4f370b",
        "colab": {},
        "pycharm": {
          "is_executing": false
        }
      },
      "source": [
        "test \u003d df_scaled.sample(n\u003d300, random_state\u003d200)\n",
        "test.shape"
      ],
      "execution_count": 13,
      "outputs": [
        {
          "data": {
            "text/plain": "(300, 9)"
          },
          "metadata": {},
          "output_type": "execute_result",
          "execution_count": 13
        }
      ]
    },
    {
      "cell_type": "code",
      "metadata": {
        "id": "E6Ma-P-KsdUN",
        "colab_type": "code",
        "outputId": "89b2a78b-7f68-4055-b6fa-5f5b9c26b631",
        "colab": {},
        "pycharm": {
          "is_executing": false
        }
      },
      "source": [
        "test.describe()"
      ],
      "execution_count": 14,
      "outputs": [
        {
          "data": {
            "text/plain": "       Pregnancies     Glucose  BloodPressure  SkinThickness     Insulin  \\\ncount   300.000000  300.000000     300.000000     300.000000  300.000000   \nmean      0.218235    0.495019       0.491881       0.248700    0.171112   \nstd       0.198412    0.196492       0.121759       0.105072    0.112388   \nmin       0.000000    0.109677       0.061224       0.000000    0.000000   \n25%       0.058824    0.354839       0.408163       0.206522    0.127404   \n50%       0.176471    0.464516       0.493930       0.240798    0.170130   \n75%       0.352941    0.608065       0.571429       0.282609    0.170130   \nmax       0.882353    0.993548       0.918367       1.000000    1.000000   \n\n              BMI  DiabetesPedigreeFunction         Age     Outcome  \ncount  300.000000                300.000000  300.000000  300.000000  \nmean     0.293738                  0.169129    0.208278    0.310000  \nstd      0.150133                  0.144939    0.204939    0.463266  \nmin      0.000000                  0.002562    0.000000    0.000000  \n25%      0.188139                  0.068211    0.050000    0.000000  \n50%      0.282209                  0.119769    0.133333    0.000000  \n75%      0.376278                  0.234415    0.333333    1.000000  \nmax      1.000000                  1.000000    1.000000    1.000000  ",
            "text/html": "\u003cdiv\u003e\n\u003cstyle scoped\u003e\n    .dataframe tbody tr th:only-of-type {\n        vertical-align: middle;\n    }\n\n    .dataframe tbody tr th {\n        vertical-align: top;\n    }\n\n    .dataframe thead th {\n        text-align: right;\n    }\n\u003c/style\u003e\n\u003ctable border\u003d\"1\" class\u003d\"dataframe\"\u003e\n  \u003cthead\u003e\n    \u003ctr style\u003d\"text-align: right;\"\u003e\n      \u003cth\u003e\u003c/th\u003e\n      \u003cth\u003ePregnancies\u003c/th\u003e\n      \u003cth\u003eGlucose\u003c/th\u003e\n      \u003cth\u003eBloodPressure\u003c/th\u003e\n      \u003cth\u003eSkinThickness\u003c/th\u003e\n      \u003cth\u003eInsulin\u003c/th\u003e\n      \u003cth\u003eBMI\u003c/th\u003e\n      \u003cth\u003eDiabetesPedigreeFunction\u003c/th\u003e\n      \u003cth\u003eAge\u003c/th\u003e\n      \u003cth\u003eOutcome\u003c/th\u003e\n    \u003c/tr\u003e\n  \u003c/thead\u003e\n  \u003ctbody\u003e\n    \u003ctr\u003e\n      \u003cth\u003ecount\u003c/th\u003e\n      \u003ctd\u003e300.000000\u003c/td\u003e\n      \u003ctd\u003e300.000000\u003c/td\u003e\n      \u003ctd\u003e300.000000\u003c/td\u003e\n      \u003ctd\u003e300.000000\u003c/td\u003e\n      \u003ctd\u003e300.000000\u003c/td\u003e\n      \u003ctd\u003e300.000000\u003c/td\u003e\n      \u003ctd\u003e300.000000\u003c/td\u003e\n      \u003ctd\u003e300.000000\u003c/td\u003e\n      \u003ctd\u003e300.000000\u003c/td\u003e\n    \u003c/tr\u003e\n    \u003ctr\u003e\n      \u003cth\u003emean\u003c/th\u003e\n      \u003ctd\u003e0.218235\u003c/td\u003e\n      \u003ctd\u003e0.495019\u003c/td\u003e\n      \u003ctd\u003e0.491881\u003c/td\u003e\n      \u003ctd\u003e0.248700\u003c/td\u003e\n      \u003ctd\u003e0.171112\u003c/td\u003e\n      \u003ctd\u003e0.293738\u003c/td\u003e\n      \u003ctd\u003e0.169129\u003c/td\u003e\n      \u003ctd\u003e0.208278\u003c/td\u003e\n      \u003ctd\u003e0.310000\u003c/td\u003e\n    \u003c/tr\u003e\n    \u003ctr\u003e\n      \u003cth\u003estd\u003c/th\u003e\n      \u003ctd\u003e0.198412\u003c/td\u003e\n      \u003ctd\u003e0.196492\u003c/td\u003e\n      \u003ctd\u003e0.121759\u003c/td\u003e\n      \u003ctd\u003e0.105072\u003c/td\u003e\n      \u003ctd\u003e0.112388\u003c/td\u003e\n      \u003ctd\u003e0.150133\u003c/td\u003e\n      \u003ctd\u003e0.144939\u003c/td\u003e\n      \u003ctd\u003e0.204939\u003c/td\u003e\n      \u003ctd\u003e0.463266\u003c/td\u003e\n    \u003c/tr\u003e\n    \u003ctr\u003e\n      \u003cth\u003emin\u003c/th\u003e\n      \u003ctd\u003e0.000000\u003c/td\u003e\n      \u003ctd\u003e0.109677\u003c/td\u003e\n      \u003ctd\u003e0.061224\u003c/td\u003e\n      \u003ctd\u003e0.000000\u003c/td\u003e\n      \u003ctd\u003e0.000000\u003c/td\u003e\n      \u003ctd\u003e0.000000\u003c/td\u003e\n      \u003ctd\u003e0.002562\u003c/td\u003e\n      \u003ctd\u003e0.000000\u003c/td\u003e\n      \u003ctd\u003e0.000000\u003c/td\u003e\n    \u003c/tr\u003e\n    \u003ctr\u003e\n      \u003cth\u003e25%\u003c/th\u003e\n      \u003ctd\u003e0.058824\u003c/td\u003e\n      \u003ctd\u003e0.354839\u003c/td\u003e\n      \u003ctd\u003e0.408163\u003c/td\u003e\n      \u003ctd\u003e0.206522\u003c/td\u003e\n      \u003ctd\u003e0.127404\u003c/td\u003e\n      \u003ctd\u003e0.188139\u003c/td\u003e\n      \u003ctd\u003e0.068211\u003c/td\u003e\n      \u003ctd\u003e0.050000\u003c/td\u003e\n      \u003ctd\u003e0.000000\u003c/td\u003e\n    \u003c/tr\u003e\n    \u003ctr\u003e\n      \u003cth\u003e50%\u003c/th\u003e\n      \u003ctd\u003e0.176471\u003c/td\u003e\n      \u003ctd\u003e0.464516\u003c/td\u003e\n      \u003ctd\u003e0.493930\u003c/td\u003e\n      \u003ctd\u003e0.240798\u003c/td\u003e\n      \u003ctd\u003e0.170130\u003c/td\u003e\n      \u003ctd\u003e0.282209\u003c/td\u003e\n      \u003ctd\u003e0.119769\u003c/td\u003e\n      \u003ctd\u003e0.133333\u003c/td\u003e\n      \u003ctd\u003e0.000000\u003c/td\u003e\n    \u003c/tr\u003e\n    \u003ctr\u003e\n      \u003cth\u003e75%\u003c/th\u003e\n      \u003ctd\u003e0.352941\u003c/td\u003e\n      \u003ctd\u003e0.608065\u003c/td\u003e\n      \u003ctd\u003e0.571429\u003c/td\u003e\n      \u003ctd\u003e0.282609\u003c/td\u003e\n      \u003ctd\u003e0.170130\u003c/td\u003e\n      \u003ctd\u003e0.376278\u003c/td\u003e\n      \u003ctd\u003e0.234415\u003c/td\u003e\n      \u003ctd\u003e0.333333\u003c/td\u003e\n      \u003ctd\u003e1.000000\u003c/td\u003e\n    \u003c/tr\u003e\n    \u003ctr\u003e\n      \u003cth\u003emax\u003c/th\u003e\n      \u003ctd\u003e0.882353\u003c/td\u003e\n      \u003ctd\u003e0.993548\u003c/td\u003e\n      \u003ctd\u003e0.918367\u003c/td\u003e\n      \u003ctd\u003e1.000000\u003c/td\u003e\n      \u003ctd\u003e1.000000\u003c/td\u003e\n      \u003ctd\u003e1.000000\u003c/td\u003e\n      \u003ctd\u003e1.000000\u003c/td\u003e\n      \u003ctd\u003e1.000000\u003c/td\u003e\n      \u003ctd\u003e1.000000\u003c/td\u003e\n    \u003c/tr\u003e\n  \u003c/tbody\u003e\n\u003c/table\u003e\n\u003c/div\u003e"
          },
          "metadata": {},
          "output_type": "execute_result",
          "execution_count": 14
        }
      ]
    },
    {
      "cell_type": "code",
      "metadata": {
        "id": "jDZDjc6csdUR",
        "colab_type": "code",
        "outputId": "a412bd4f-0c24-439e-f0e8-af82834d717c",
        "colab": {},
        "pycharm": {
          "is_executing": false
        }
      },
      "source": [
        "train \u003d df_scaled.drop(test.index)\n",
        "train.shape"
      ],
      "execution_count": 15,
      "outputs": [
        {
          "data": {
            "text/plain": "(468, 9)"
          },
          "metadata": {},
          "output_type": "execute_result",
          "execution_count": 15
        }
      ]
    },
    {
      "cell_type": "code",
      "metadata": {
        "id": "IQawH2POsdUT",
        "colab_type": "code",
        "outputId": "0687e3df-2057-4385-ecb8-6b6a94c1fc97",
        "colab": {},
        "pycharm": {
          "is_executing": false
        }
      },
      "source": [
        "train.describe()"
      ],
      "execution_count": 16,
      "outputs": [
        {
          "data": {
            "text/plain": "       Pregnancies     Glucose  BloodPressure  SkinThickness     Insulin  \\\ncount   468.000000  468.000000     468.000000     468.000000  468.000000   \nmean      0.231272    0.505170       0.495244       0.235733    0.169501   \nstd       0.198126    0.196385       0.124604       0.088666    0.095198   \nmin       0.000000    0.000000       0.000000       0.000000    0.001202   \n25%       0.058824    0.361290       0.408163       0.184783    0.133413   \n50%       0.176471    0.480645       0.489796       0.240798    0.170130   \n75%       0.352941    0.632258       0.571429       0.271739    0.170130   \nmax       1.000000    1.000000       1.000000       0.576087    0.877404   \n\n              BMI  DiabetesPedigreeFunction         Age     Outcome  \ncount  468.000000                468.000000  468.000000  468.000000  \nmean     0.290170                  0.167571    0.201282    0.373932  \nstd      0.134273                  0.139358    0.190228    0.484364  \nmin      0.000000                  0.000000    0.000000    0.000000  \n25%      0.194274                  0.072481    0.050000    0.000000  \n50%      0.291564                  0.128096    0.133333    0.000000  \n75%      0.374744                  0.233454    0.316667    1.000000  \nmax      0.799591                  0.961144    0.816667    1.000000  ",
            "text/html": "\u003cdiv\u003e\n\u003cstyle scoped\u003e\n    .dataframe tbody tr th:only-of-type {\n        vertical-align: middle;\n    }\n\n    .dataframe tbody tr th {\n        vertical-align: top;\n    }\n\n    .dataframe thead th {\n        text-align: right;\n    }\n\u003c/style\u003e\n\u003ctable border\u003d\"1\" class\u003d\"dataframe\"\u003e\n  \u003cthead\u003e\n    \u003ctr style\u003d\"text-align: right;\"\u003e\n      \u003cth\u003e\u003c/th\u003e\n      \u003cth\u003ePregnancies\u003c/th\u003e\n      \u003cth\u003eGlucose\u003c/th\u003e\n      \u003cth\u003eBloodPressure\u003c/th\u003e\n      \u003cth\u003eSkinThickness\u003c/th\u003e\n      \u003cth\u003eInsulin\u003c/th\u003e\n      \u003cth\u003eBMI\u003c/th\u003e\n      \u003cth\u003eDiabetesPedigreeFunction\u003c/th\u003e\n      \u003cth\u003eAge\u003c/th\u003e\n      \u003cth\u003eOutcome\u003c/th\u003e\n    \u003c/tr\u003e\n  \u003c/thead\u003e\n  \u003ctbody\u003e\n    \u003ctr\u003e\n      \u003cth\u003ecount\u003c/th\u003e\n      \u003ctd\u003e468.000000\u003c/td\u003e\n      \u003ctd\u003e468.000000\u003c/td\u003e\n      \u003ctd\u003e468.000000\u003c/td\u003e\n      \u003ctd\u003e468.000000\u003c/td\u003e\n      \u003ctd\u003e468.000000\u003c/td\u003e\n      \u003ctd\u003e468.000000\u003c/td\u003e\n      \u003ctd\u003e468.000000\u003c/td\u003e\n      \u003ctd\u003e468.000000\u003c/td\u003e\n      \u003ctd\u003e468.000000\u003c/td\u003e\n    \u003c/tr\u003e\n    \u003ctr\u003e\n      \u003cth\u003emean\u003c/th\u003e\n      \u003ctd\u003e0.231272\u003c/td\u003e\n      \u003ctd\u003e0.505170\u003c/td\u003e\n      \u003ctd\u003e0.495244\u003c/td\u003e\n      \u003ctd\u003e0.235733\u003c/td\u003e\n      \u003ctd\u003e0.169501\u003c/td\u003e\n      \u003ctd\u003e0.290170\u003c/td\u003e\n      \u003ctd\u003e0.167571\u003c/td\u003e\n      \u003ctd\u003e0.201282\u003c/td\u003e\n      \u003ctd\u003e0.373932\u003c/td\u003e\n    \u003c/tr\u003e\n    \u003ctr\u003e\n      \u003cth\u003estd\u003c/th\u003e\n      \u003ctd\u003e0.198126\u003c/td\u003e\n      \u003ctd\u003e0.196385\u003c/td\u003e\n      \u003ctd\u003e0.124604\u003c/td\u003e\n      \u003ctd\u003e0.088666\u003c/td\u003e\n      \u003ctd\u003e0.095198\u003c/td\u003e\n      \u003ctd\u003e0.134273\u003c/td\u003e\n      \u003ctd\u003e0.139358\u003c/td\u003e\n      \u003ctd\u003e0.190228\u003c/td\u003e\n      \u003ctd\u003e0.484364\u003c/td\u003e\n    \u003c/tr\u003e\n    \u003ctr\u003e\n      \u003cth\u003emin\u003c/th\u003e\n      \u003ctd\u003e0.000000\u003c/td\u003e\n      \u003ctd\u003e0.000000\u003c/td\u003e\n      \u003ctd\u003e0.000000\u003c/td\u003e\n      \u003ctd\u003e0.000000\u003c/td\u003e\n      \u003ctd\u003e0.001202\u003c/td\u003e\n      \u003ctd\u003e0.000000\u003c/td\u003e\n      \u003ctd\u003e0.000000\u003c/td\u003e\n      \u003ctd\u003e0.000000\u003c/td\u003e\n      \u003ctd\u003e0.000000\u003c/td\u003e\n    \u003c/tr\u003e\n    \u003ctr\u003e\n      \u003cth\u003e25%\u003c/th\u003e\n      \u003ctd\u003e0.058824\u003c/td\u003e\n      \u003ctd\u003e0.361290\u003c/td\u003e\n      \u003ctd\u003e0.408163\u003c/td\u003e\n      \u003ctd\u003e0.184783\u003c/td\u003e\n      \u003ctd\u003e0.133413\u003c/td\u003e\n      \u003ctd\u003e0.194274\u003c/td\u003e\n      \u003ctd\u003e0.072481\u003c/td\u003e\n      \u003ctd\u003e0.050000\u003c/td\u003e\n      \u003ctd\u003e0.000000\u003c/td\u003e\n    \u003c/tr\u003e\n    \u003ctr\u003e\n      \u003cth\u003e50%\u003c/th\u003e\n      \u003ctd\u003e0.176471\u003c/td\u003e\n      \u003ctd\u003e0.480645\u003c/td\u003e\n      \u003ctd\u003e0.489796\u003c/td\u003e\n      \u003ctd\u003e0.240798\u003c/td\u003e\n      \u003ctd\u003e0.170130\u003c/td\u003e\n      \u003ctd\u003e0.291564\u003c/td\u003e\n      \u003ctd\u003e0.128096\u003c/td\u003e\n      \u003ctd\u003e0.133333\u003c/td\u003e\n      \u003ctd\u003e0.000000\u003c/td\u003e\n    \u003c/tr\u003e\n    \u003ctr\u003e\n      \u003cth\u003e75%\u003c/th\u003e\n      \u003ctd\u003e0.352941\u003c/td\u003e\n      \u003ctd\u003e0.632258\u003c/td\u003e\n      \u003ctd\u003e0.571429\u003c/td\u003e\n      \u003ctd\u003e0.271739\u003c/td\u003e\n      \u003ctd\u003e0.170130\u003c/td\u003e\n      \u003ctd\u003e0.374744\u003c/td\u003e\n      \u003ctd\u003e0.233454\u003c/td\u003e\n      \u003ctd\u003e0.316667\u003c/td\u003e\n      \u003ctd\u003e1.000000\u003c/td\u003e\n    \u003c/tr\u003e\n    \u003ctr\u003e\n      \u003cth\u003emax\u003c/th\u003e\n      \u003ctd\u003e1.000000\u003c/td\u003e\n      \u003ctd\u003e1.000000\u003c/td\u003e\n      \u003ctd\u003e1.000000\u003c/td\u003e\n      \u003ctd\u003e0.576087\u003c/td\u003e\n      \u003ctd\u003e0.877404\u003c/td\u003e\n      \u003ctd\u003e0.799591\u003c/td\u003e\n      \u003ctd\u003e0.961144\u003c/td\u003e\n      \u003ctd\u003e0.816667\u003c/td\u003e\n      \u003ctd\u003e1.000000\u003c/td\u003e\n    \u003c/tr\u003e\n  \u003c/tbody\u003e\n\u003c/table\u003e\n\u003c/div\u003e"
          },
          "metadata": {},
          "output_type": "execute_result",
          "execution_count": 16
        }
      ]
    },
    {
      "cell_type": "code",
      "metadata": {
        "id": "9-IjNIHPsdUW",
        "colab_type": "code",
        "outputId": "02393675-eed7-496c-d50e-588f0889bd86",
        "colab": {},
        "pycharm": {
          "is_executing": false
        }
      },
      "source": [
        "len(train[train.Outcome  \u003d\u003d 1])"
      ],
      "execution_count": 17,
      "outputs": [
        {
          "data": {
            "text/plain": "175"
          },
          "metadata": {},
          "output_type": "execute_result",
          "execution_count": 17
        }
      ]
    },
    {
      "cell_type": "code",
      "metadata": {
        "id": "2F9LTridsdUZ",
        "colab_type": "code",
        "outputId": "731e0055-bee5-45a6-8ef3-f30140f23f2f",
        "colab": {},
        "pycharm": {
          "is_executing": false
        }
      },
      "source": [
        "len(train[train.Outcome  \u003d\u003d 0])"
      ],
      "execution_count": 18,
      "outputs": [
        {
          "data": {
            "text/plain": "293"
          },
          "metadata": {},
          "output_type": "execute_result",
          "execution_count": 18
        }
      ]
    },
    {
      "cell_type": "markdown",
      "metadata": {
        "id": "VV_MK2z_sdUc",
        "colab_type": "text",
        "pycharm": {}
      },
      "source": [
        "Our objective will be to have 350 each, so that makes 700, which will be the 70% of our data."
      ]
    },
    {
      "cell_type": "code",
      "metadata": {
        "id": "90hsUNW0sdUc",
        "colab_type": "code",
        "outputId": "72e7c394-0277-4755-8c7c-c0418022dfd5",
        "colab": {},
        "pycharm": {
          "is_executing": false
        }
      },
      "source": [
        "train_extra_1 \u003d train[train.Outcome \u003d\u003d 1].sample(n \u003d 350 - len(train[train.Outcome \u003d\u003d 1]), random_state\u003d200, replace \u003d True)\n",
        "train_extra_1.describe()"
      ],
      "execution_count": 19,
      "outputs": [
        {
          "data": {
            "text/plain": "       Pregnancies     Glucose  BloodPressure  SkinThickness     Insulin  \\\ncount   175.000000  175.000000     175.000000     175.000000  175.000000   \nmean      0.269580    0.648371       0.520748       0.261628    0.203473   \nstd       0.200055    0.194185       0.122344       0.082724    0.113142   \nmin       0.000000    0.219355       0.163265       0.054348    0.018029   \n25%       0.058824    0.498990       0.459184       0.239130    0.170130   \n50%       0.235294    0.632258       0.510204       0.240798    0.170130   \n75%       0.411765    0.816129       0.591837       0.293478    0.199519   \nmax       0.764706    1.000000       0.877551       0.456522    0.679087   \n\n              BMI  DiabetesPedigreeFunction         Age  Outcome  \ncount  175.000000                175.000000  175.000000    175.0  \nmean     0.339387                  0.221415    0.257905      1.0  \nstd      0.122315                  0.175188    0.164408      0.0  \nmin      0.096115                  0.021349    0.000000      1.0  \n25%      0.249489                  0.111870    0.125000      1.0  \n50%      0.327198                  0.154996    0.250000      1.0  \n75%      0.420245                  0.276687    0.366667      1.0  \nmax      0.697342                  0.943638    0.666667      1.0  ",
            "text/html": "\u003cdiv\u003e\n\u003cstyle scoped\u003e\n    .dataframe tbody tr th:only-of-type {\n        vertical-align: middle;\n    }\n\n    .dataframe tbody tr th {\n        vertical-align: top;\n    }\n\n    .dataframe thead th {\n        text-align: right;\n    }\n\u003c/style\u003e\n\u003ctable border\u003d\"1\" class\u003d\"dataframe\"\u003e\n  \u003cthead\u003e\n    \u003ctr style\u003d\"text-align: right;\"\u003e\n      \u003cth\u003e\u003c/th\u003e\n      \u003cth\u003ePregnancies\u003c/th\u003e\n      \u003cth\u003eGlucose\u003c/th\u003e\n      \u003cth\u003eBloodPressure\u003c/th\u003e\n      \u003cth\u003eSkinThickness\u003c/th\u003e\n      \u003cth\u003eInsulin\u003c/th\u003e\n      \u003cth\u003eBMI\u003c/th\u003e\n      \u003cth\u003eDiabetesPedigreeFunction\u003c/th\u003e\n      \u003cth\u003eAge\u003c/th\u003e\n      \u003cth\u003eOutcome\u003c/th\u003e\n    \u003c/tr\u003e\n  \u003c/thead\u003e\n  \u003ctbody\u003e\n    \u003ctr\u003e\n      \u003cth\u003ecount\u003c/th\u003e\n      \u003ctd\u003e175.000000\u003c/td\u003e\n      \u003ctd\u003e175.000000\u003c/td\u003e\n      \u003ctd\u003e175.000000\u003c/td\u003e\n      \u003ctd\u003e175.000000\u003c/td\u003e\n      \u003ctd\u003e175.000000\u003c/td\u003e\n      \u003ctd\u003e175.000000\u003c/td\u003e\n      \u003ctd\u003e175.000000\u003c/td\u003e\n      \u003ctd\u003e175.000000\u003c/td\u003e\n      \u003ctd\u003e175.0\u003c/td\u003e\n    \u003c/tr\u003e\n    \u003ctr\u003e\n      \u003cth\u003emean\u003c/th\u003e\n      \u003ctd\u003e0.269580\u003c/td\u003e\n      \u003ctd\u003e0.648371\u003c/td\u003e\n      \u003ctd\u003e0.520748\u003c/td\u003e\n      \u003ctd\u003e0.261628\u003c/td\u003e\n      \u003ctd\u003e0.203473\u003c/td\u003e\n      \u003ctd\u003e0.339387\u003c/td\u003e\n      \u003ctd\u003e0.221415\u003c/td\u003e\n      \u003ctd\u003e0.257905\u003c/td\u003e\n      \u003ctd\u003e1.0\u003c/td\u003e\n    \u003c/tr\u003e\n    \u003ctr\u003e\n      \u003cth\u003estd\u003c/th\u003e\n      \u003ctd\u003e0.200055\u003c/td\u003e\n      \u003ctd\u003e0.194185\u003c/td\u003e\n      \u003ctd\u003e0.122344\u003c/td\u003e\n      \u003ctd\u003e0.082724\u003c/td\u003e\n      \u003ctd\u003e0.113142\u003c/td\u003e\n      \u003ctd\u003e0.122315\u003c/td\u003e\n      \u003ctd\u003e0.175188\u003c/td\u003e\n      \u003ctd\u003e0.164408\u003c/td\u003e\n      \u003ctd\u003e0.0\u003c/td\u003e\n    \u003c/tr\u003e\n    \u003ctr\u003e\n      \u003cth\u003emin\u003c/th\u003e\n      \u003ctd\u003e0.000000\u003c/td\u003e\n      \u003ctd\u003e0.219355\u003c/td\u003e\n      \u003ctd\u003e0.163265\u003c/td\u003e\n      \u003ctd\u003e0.054348\u003c/td\u003e\n      \u003ctd\u003e0.018029\u003c/td\u003e\n      \u003ctd\u003e0.096115\u003c/td\u003e\n      \u003ctd\u003e0.021349\u003c/td\u003e\n      \u003ctd\u003e0.000000\u003c/td\u003e\n      \u003ctd\u003e1.0\u003c/td\u003e\n    \u003c/tr\u003e\n    \u003ctr\u003e\n      \u003cth\u003e25%\u003c/th\u003e\n      \u003ctd\u003e0.058824\u003c/td\u003e\n      \u003ctd\u003e0.498990\u003c/td\u003e\n      \u003ctd\u003e0.459184\u003c/td\u003e\n      \u003ctd\u003e0.239130\u003c/td\u003e\n      \u003ctd\u003e0.170130\u003c/td\u003e\n      \u003ctd\u003e0.249489\u003c/td\u003e\n      \u003ctd\u003e0.111870\u003c/td\u003e\n      \u003ctd\u003e0.125000\u003c/td\u003e\n      \u003ctd\u003e1.0\u003c/td\u003e\n    \u003c/tr\u003e\n    \u003ctr\u003e\n      \u003cth\u003e50%\u003c/th\u003e\n      \u003ctd\u003e0.235294\u003c/td\u003e\n      \u003ctd\u003e0.632258\u003c/td\u003e\n      \u003ctd\u003e0.510204\u003c/td\u003e\n      \u003ctd\u003e0.240798\u003c/td\u003e\n      \u003ctd\u003e0.170130\u003c/td\u003e\n      \u003ctd\u003e0.327198\u003c/td\u003e\n      \u003ctd\u003e0.154996\u003c/td\u003e\n      \u003ctd\u003e0.250000\u003c/td\u003e\n      \u003ctd\u003e1.0\u003c/td\u003e\n    \u003c/tr\u003e\n    \u003ctr\u003e\n      \u003cth\u003e75%\u003c/th\u003e\n      \u003ctd\u003e0.411765\u003c/td\u003e\n      \u003ctd\u003e0.816129\u003c/td\u003e\n      \u003ctd\u003e0.591837\u003c/td\u003e\n      \u003ctd\u003e0.293478\u003c/td\u003e\n      \u003ctd\u003e0.199519\u003c/td\u003e\n      \u003ctd\u003e0.420245\u003c/td\u003e\n      \u003ctd\u003e0.276687\u003c/td\u003e\n      \u003ctd\u003e0.366667\u003c/td\u003e\n      \u003ctd\u003e1.0\u003c/td\u003e\n    \u003c/tr\u003e\n    \u003ctr\u003e\n      \u003cth\u003emax\u003c/th\u003e\n      \u003ctd\u003e0.764706\u003c/td\u003e\n      \u003ctd\u003e1.000000\u003c/td\u003e\n      \u003ctd\u003e0.877551\u003c/td\u003e\n      \u003ctd\u003e0.456522\u003c/td\u003e\n      \u003ctd\u003e0.679087\u003c/td\u003e\n      \u003ctd\u003e0.697342\u003c/td\u003e\n      \u003ctd\u003e0.943638\u003c/td\u003e\n      \u003ctd\u003e0.666667\u003c/td\u003e\n      \u003ctd\u003e1.0\u003c/td\u003e\n    \u003c/tr\u003e\n  \u003c/tbody\u003e\n\u003c/table\u003e\n\u003c/div\u003e"
          },
          "metadata": {},
          "output_type": "execute_result",
          "execution_count": 19
        }
      ]
    },
    {
      "cell_type": "code",
      "metadata": {
        "id": "5FqbjoshsdUf",
        "colab_type": "code",
        "outputId": "2e951114-c890-4b91-d1cb-e80d17267c0c",
        "colab": {},
        "pycharm": {
          "is_executing": false
        }
      },
      "source": [
        "train_extra_0 \u003d train[train.Outcome \u003d\u003d 0].sample(n \u003d 350 - len(train[train.Outcome \u003d\u003d 0]),random_state\u003d200)\n",
        "train_extra_0.describe()"
      ],
      "execution_count": 20,
      "outputs": [
        {
          "data": {
            "text/plain": "       Pregnancies    Glucose  BloodPressure  SkinThickness    Insulin  \\\ncount    57.000000  57.000000      57.000000      57.000000  57.000000   \nmean      0.215686   0.418676       0.487290       0.231751   0.161330   \nstd       0.185462   0.154708       0.117494       0.093267   0.097354   \nmin       0.000000   0.077419       0.244898       0.032609   0.001202   \n25%       0.058824   0.322581       0.408163       0.173913   0.109375   \n50%       0.117647   0.406452       0.489796       0.240798   0.170130   \n75%       0.294118   0.496774       0.571429       0.271739   0.170130   \nmax       0.705882   0.870968       0.714286       0.413043   0.560096   \n\n             BMI  DiabetesPedigreeFunction        Age  Outcome  \ncount  57.000000                 57.000000  57.000000     57.0  \nmean    0.250980                  0.152449   0.177485      0.0  \nstd     0.136865                  0.115559   0.183265      0.0  \nmin     0.000000                  0.009394   0.000000      0.0  \n25%     0.130879                  0.076857   0.016667      0.0  \n50%     0.259714                  0.110589   0.116667      0.0  \n75%     0.351738                  0.186166   0.266667      0.0  \nmax     0.570552                  0.564475   0.700000      0.0  ",
            "text/html": "\u003cdiv\u003e\n\u003cstyle scoped\u003e\n    .dataframe tbody tr th:only-of-type {\n        vertical-align: middle;\n    }\n\n    .dataframe tbody tr th {\n        vertical-align: top;\n    }\n\n    .dataframe thead th {\n        text-align: right;\n    }\n\u003c/style\u003e\n\u003ctable border\u003d\"1\" class\u003d\"dataframe\"\u003e\n  \u003cthead\u003e\n    \u003ctr style\u003d\"text-align: right;\"\u003e\n      \u003cth\u003e\u003c/th\u003e\n      \u003cth\u003ePregnancies\u003c/th\u003e\n      \u003cth\u003eGlucose\u003c/th\u003e\n      \u003cth\u003eBloodPressure\u003c/th\u003e\n      \u003cth\u003eSkinThickness\u003c/th\u003e\n      \u003cth\u003eInsulin\u003c/th\u003e\n      \u003cth\u003eBMI\u003c/th\u003e\n      \u003cth\u003eDiabetesPedigreeFunction\u003c/th\u003e\n      \u003cth\u003eAge\u003c/th\u003e\n      \u003cth\u003eOutcome\u003c/th\u003e\n    \u003c/tr\u003e\n  \u003c/thead\u003e\n  \u003ctbody\u003e\n    \u003ctr\u003e\n      \u003cth\u003ecount\u003c/th\u003e\n      \u003ctd\u003e57.000000\u003c/td\u003e\n      \u003ctd\u003e57.000000\u003c/td\u003e\n      \u003ctd\u003e57.000000\u003c/td\u003e\n      \u003ctd\u003e57.000000\u003c/td\u003e\n      \u003ctd\u003e57.000000\u003c/td\u003e\n      \u003ctd\u003e57.000000\u003c/td\u003e\n      \u003ctd\u003e57.000000\u003c/td\u003e\n      \u003ctd\u003e57.000000\u003c/td\u003e\n      \u003ctd\u003e57.0\u003c/td\u003e\n    \u003c/tr\u003e\n    \u003ctr\u003e\n      \u003cth\u003emean\u003c/th\u003e\n      \u003ctd\u003e0.215686\u003c/td\u003e\n      \u003ctd\u003e0.418676\u003c/td\u003e\n      \u003ctd\u003e0.487290\u003c/td\u003e\n      \u003ctd\u003e0.231751\u003c/td\u003e\n      \u003ctd\u003e0.161330\u003c/td\u003e\n      \u003ctd\u003e0.250980\u003c/td\u003e\n      \u003ctd\u003e0.152449\u003c/td\u003e\n      \u003ctd\u003e0.177485\u003c/td\u003e\n      \u003ctd\u003e0.0\u003c/td\u003e\n    \u003c/tr\u003e\n    \u003ctr\u003e\n      \u003cth\u003estd\u003c/th\u003e\n      \u003ctd\u003e0.185462\u003c/td\u003e\n      \u003ctd\u003e0.154708\u003c/td\u003e\n      \u003ctd\u003e0.117494\u003c/td\u003e\n      \u003ctd\u003e0.093267\u003c/td\u003e\n      \u003ctd\u003e0.097354\u003c/td\u003e\n      \u003ctd\u003e0.136865\u003c/td\u003e\n      \u003ctd\u003e0.115559\u003c/td\u003e\n      \u003ctd\u003e0.183265\u003c/td\u003e\n      \u003ctd\u003e0.0\u003c/td\u003e\n    \u003c/tr\u003e\n    \u003ctr\u003e\n      \u003cth\u003emin\u003c/th\u003e\n      \u003ctd\u003e0.000000\u003c/td\u003e\n      \u003ctd\u003e0.077419\u003c/td\u003e\n      \u003ctd\u003e0.244898\u003c/td\u003e\n      \u003ctd\u003e0.032609\u003c/td\u003e\n      \u003ctd\u003e0.001202\u003c/td\u003e\n      \u003ctd\u003e0.000000\u003c/td\u003e\n      \u003ctd\u003e0.009394\u003c/td\u003e\n      \u003ctd\u003e0.000000\u003c/td\u003e\n      \u003ctd\u003e0.0\u003c/td\u003e\n    \u003c/tr\u003e\n    \u003ctr\u003e\n      \u003cth\u003e25%\u003c/th\u003e\n      \u003ctd\u003e0.058824\u003c/td\u003e\n      \u003ctd\u003e0.322581\u003c/td\u003e\n      \u003ctd\u003e0.408163\u003c/td\u003e\n      \u003ctd\u003e0.173913\u003c/td\u003e\n      \u003ctd\u003e0.109375\u003c/td\u003e\n      \u003ctd\u003e0.130879\u003c/td\u003e\n      \u003ctd\u003e0.076857\u003c/td\u003e\n      \u003ctd\u003e0.016667\u003c/td\u003e\n      \u003ctd\u003e0.0\u003c/td\u003e\n    \u003c/tr\u003e\n    \u003ctr\u003e\n      \u003cth\u003e50%\u003c/th\u003e\n      \u003ctd\u003e0.117647\u003c/td\u003e\n      \u003ctd\u003e0.406452\u003c/td\u003e\n      \u003ctd\u003e0.489796\u003c/td\u003e\n      \u003ctd\u003e0.240798\u003c/td\u003e\n      \u003ctd\u003e0.170130\u003c/td\u003e\n      \u003ctd\u003e0.259714\u003c/td\u003e\n      \u003ctd\u003e0.110589\u003c/td\u003e\n      \u003ctd\u003e0.116667\u003c/td\u003e\n      \u003ctd\u003e0.0\u003c/td\u003e\n    \u003c/tr\u003e\n    \u003ctr\u003e\n      \u003cth\u003e75%\u003c/th\u003e\n      \u003ctd\u003e0.294118\u003c/td\u003e\n      \u003ctd\u003e0.496774\u003c/td\u003e\n      \u003ctd\u003e0.571429\u003c/td\u003e\n      \u003ctd\u003e0.271739\u003c/td\u003e\n      \u003ctd\u003e0.170130\u003c/td\u003e\n      \u003ctd\u003e0.351738\u003c/td\u003e\n      \u003ctd\u003e0.186166\u003c/td\u003e\n      \u003ctd\u003e0.266667\u003c/td\u003e\n      \u003ctd\u003e0.0\u003c/td\u003e\n    \u003c/tr\u003e\n    \u003ctr\u003e\n      \u003cth\u003emax\u003c/th\u003e\n      \u003ctd\u003e0.705882\u003c/td\u003e\n      \u003ctd\u003e0.870968\u003c/td\u003e\n      \u003ctd\u003e0.714286\u003c/td\u003e\n      \u003ctd\u003e0.413043\u003c/td\u003e\n      \u003ctd\u003e0.560096\u003c/td\u003e\n      \u003ctd\u003e0.570552\u003c/td\u003e\n      \u003ctd\u003e0.564475\u003c/td\u003e\n      \u003ctd\u003e0.700000\u003c/td\u003e\n      \u003ctd\u003e0.0\u003c/td\u003e\n    \u003c/tr\u003e\n  \u003c/tbody\u003e\n\u003c/table\u003e\n\u003c/div\u003e"
          },
          "metadata": {},
          "output_type": "execute_result",
          "execution_count": 20
        }
      ]
    },
    {
      "cell_type": "code",
      "metadata": {
        "id": "JkYj_6DNsdUi",
        "colab_type": "code",
        "outputId": "8cdbffb6-d87e-4cba-c4c9-6a4523cb1e37",
        "colab": {},
        "pycharm": {
          "is_executing": false
        }
      },
      "source": [
        "train.describe()"
      ],
      "execution_count": 21,
      "outputs": [
        {
          "data": {
            "text/plain": "       Pregnancies     Glucose  BloodPressure  SkinThickness     Insulin  \\\ncount   468.000000  468.000000     468.000000     468.000000  468.000000   \nmean      0.231272    0.505170       0.495244       0.235733    0.169501   \nstd       0.198126    0.196385       0.124604       0.088666    0.095198   \nmin       0.000000    0.000000       0.000000       0.000000    0.001202   \n25%       0.058824    0.361290       0.408163       0.184783    0.133413   \n50%       0.176471    0.480645       0.489796       0.240798    0.170130   \n75%       0.352941    0.632258       0.571429       0.271739    0.170130   \nmax       1.000000    1.000000       1.000000       0.576087    0.877404   \n\n              BMI  DiabetesPedigreeFunction         Age     Outcome  \ncount  468.000000                468.000000  468.000000  468.000000  \nmean     0.290170                  0.167571    0.201282    0.373932  \nstd      0.134273                  0.139358    0.190228    0.484364  \nmin      0.000000                  0.000000    0.000000    0.000000  \n25%      0.194274                  0.072481    0.050000    0.000000  \n50%      0.291564                  0.128096    0.133333    0.000000  \n75%      0.374744                  0.233454    0.316667    1.000000  \nmax      0.799591                  0.961144    0.816667    1.000000  ",
            "text/html": "\u003cdiv\u003e\n\u003cstyle scoped\u003e\n    .dataframe tbody tr th:only-of-type {\n        vertical-align: middle;\n    }\n\n    .dataframe tbody tr th {\n        vertical-align: top;\n    }\n\n    .dataframe thead th {\n        text-align: right;\n    }\n\u003c/style\u003e\n\u003ctable border\u003d\"1\" class\u003d\"dataframe\"\u003e\n  \u003cthead\u003e\n    \u003ctr style\u003d\"text-align: right;\"\u003e\n      \u003cth\u003e\u003c/th\u003e\n      \u003cth\u003ePregnancies\u003c/th\u003e\n      \u003cth\u003eGlucose\u003c/th\u003e\n      \u003cth\u003eBloodPressure\u003c/th\u003e\n      \u003cth\u003eSkinThickness\u003c/th\u003e\n      \u003cth\u003eInsulin\u003c/th\u003e\n      \u003cth\u003eBMI\u003c/th\u003e\n      \u003cth\u003eDiabetesPedigreeFunction\u003c/th\u003e\n      \u003cth\u003eAge\u003c/th\u003e\n      \u003cth\u003eOutcome\u003c/th\u003e\n    \u003c/tr\u003e\n  \u003c/thead\u003e\n  \u003ctbody\u003e\n    \u003ctr\u003e\n      \u003cth\u003ecount\u003c/th\u003e\n      \u003ctd\u003e468.000000\u003c/td\u003e\n      \u003ctd\u003e468.000000\u003c/td\u003e\n      \u003ctd\u003e468.000000\u003c/td\u003e\n      \u003ctd\u003e468.000000\u003c/td\u003e\n      \u003ctd\u003e468.000000\u003c/td\u003e\n      \u003ctd\u003e468.000000\u003c/td\u003e\n      \u003ctd\u003e468.000000\u003c/td\u003e\n      \u003ctd\u003e468.000000\u003c/td\u003e\n      \u003ctd\u003e468.000000\u003c/td\u003e\n    \u003c/tr\u003e\n    \u003ctr\u003e\n      \u003cth\u003emean\u003c/th\u003e\n      \u003ctd\u003e0.231272\u003c/td\u003e\n      \u003ctd\u003e0.505170\u003c/td\u003e\n      \u003ctd\u003e0.495244\u003c/td\u003e\n      \u003ctd\u003e0.235733\u003c/td\u003e\n      \u003ctd\u003e0.169501\u003c/td\u003e\n      \u003ctd\u003e0.290170\u003c/td\u003e\n      \u003ctd\u003e0.167571\u003c/td\u003e\n      \u003ctd\u003e0.201282\u003c/td\u003e\n      \u003ctd\u003e0.373932\u003c/td\u003e\n    \u003c/tr\u003e\n    \u003ctr\u003e\n      \u003cth\u003estd\u003c/th\u003e\n      \u003ctd\u003e0.198126\u003c/td\u003e\n      \u003ctd\u003e0.196385\u003c/td\u003e\n      \u003ctd\u003e0.124604\u003c/td\u003e\n      \u003ctd\u003e0.088666\u003c/td\u003e\n      \u003ctd\u003e0.095198\u003c/td\u003e\n      \u003ctd\u003e0.134273\u003c/td\u003e\n      \u003ctd\u003e0.139358\u003c/td\u003e\n      \u003ctd\u003e0.190228\u003c/td\u003e\n      \u003ctd\u003e0.484364\u003c/td\u003e\n    \u003c/tr\u003e\n    \u003ctr\u003e\n      \u003cth\u003emin\u003c/th\u003e\n      \u003ctd\u003e0.000000\u003c/td\u003e\n      \u003ctd\u003e0.000000\u003c/td\u003e\n      \u003ctd\u003e0.000000\u003c/td\u003e\n      \u003ctd\u003e0.000000\u003c/td\u003e\n      \u003ctd\u003e0.001202\u003c/td\u003e\n      \u003ctd\u003e0.000000\u003c/td\u003e\n      \u003ctd\u003e0.000000\u003c/td\u003e\n      \u003ctd\u003e0.000000\u003c/td\u003e\n      \u003ctd\u003e0.000000\u003c/td\u003e\n    \u003c/tr\u003e\n    \u003ctr\u003e\n      \u003cth\u003e25%\u003c/th\u003e\n      \u003ctd\u003e0.058824\u003c/td\u003e\n      \u003ctd\u003e0.361290\u003c/td\u003e\n      \u003ctd\u003e0.408163\u003c/td\u003e\n      \u003ctd\u003e0.184783\u003c/td\u003e\n      \u003ctd\u003e0.133413\u003c/td\u003e\n      \u003ctd\u003e0.194274\u003c/td\u003e\n      \u003ctd\u003e0.072481\u003c/td\u003e\n      \u003ctd\u003e0.050000\u003c/td\u003e\n      \u003ctd\u003e0.000000\u003c/td\u003e\n    \u003c/tr\u003e\n    \u003ctr\u003e\n      \u003cth\u003e50%\u003c/th\u003e\n      \u003ctd\u003e0.176471\u003c/td\u003e\n      \u003ctd\u003e0.480645\u003c/td\u003e\n      \u003ctd\u003e0.489796\u003c/td\u003e\n      \u003ctd\u003e0.240798\u003c/td\u003e\n      \u003ctd\u003e0.170130\u003c/td\u003e\n      \u003ctd\u003e0.291564\u003c/td\u003e\n      \u003ctd\u003e0.128096\u003c/td\u003e\n      \u003ctd\u003e0.133333\u003c/td\u003e\n      \u003ctd\u003e0.000000\u003c/td\u003e\n    \u003c/tr\u003e\n    \u003ctr\u003e\n      \u003cth\u003e75%\u003c/th\u003e\n      \u003ctd\u003e0.352941\u003c/td\u003e\n      \u003ctd\u003e0.632258\u003c/td\u003e\n      \u003ctd\u003e0.571429\u003c/td\u003e\n      \u003ctd\u003e0.271739\u003c/td\u003e\n      \u003ctd\u003e0.170130\u003c/td\u003e\n      \u003ctd\u003e0.374744\u003c/td\u003e\n      \u003ctd\u003e0.233454\u003c/td\u003e\n      \u003ctd\u003e0.316667\u003c/td\u003e\n      \u003ctd\u003e1.000000\u003c/td\u003e\n    \u003c/tr\u003e\n    \u003ctr\u003e\n      \u003cth\u003emax\u003c/th\u003e\n      \u003ctd\u003e1.000000\u003c/td\u003e\n      \u003ctd\u003e1.000000\u003c/td\u003e\n      \u003ctd\u003e1.000000\u003c/td\u003e\n      \u003ctd\u003e0.576087\u003c/td\u003e\n      \u003ctd\u003e0.877404\u003c/td\u003e\n      \u003ctd\u003e0.799591\u003c/td\u003e\n      \u003ctd\u003e0.961144\u003c/td\u003e\n      \u003ctd\u003e0.816667\u003c/td\u003e\n      \u003ctd\u003e1.000000\u003c/td\u003e\n    \u003c/tr\u003e\n  \u003c/tbody\u003e\n\u003c/table\u003e\n\u003c/div\u003e"
          },
          "metadata": {},
          "output_type": "execute_result",
          "execution_count": 21
        }
      ]
    },
    {
      "cell_type": "code",
      "metadata": {
        "id": "RbaGl7YgsdUl",
        "colab_type": "code",
        "outputId": "a87a0b96-ab51-4865-c3ba-f90d63eb9ef6",
        "colab": {},
        "pycharm": {
          "is_executing": false
        }
      },
      "source": [
        "train_final \u003d train.append(train_extra_1).append(train_extra_0)\n",
        "train_final.describe()"
      ],
      "execution_count": 22,
      "outputs": [
        {
          "data": {
            "text/plain": "       Pregnancies     Glucose  BloodPressure  SkinThickness     Insulin  \\\ncount   700.000000  700.000000     700.000000     700.000000  700.000000   \nmean      0.239580    0.533927       0.500973       0.241882    0.177328   \nstd       0.198146    0.204906       0.123855       0.088227    0.101161   \nmin       0.000000    0.000000       0.000000       0.000000    0.001202   \n25%       0.058824    0.380645       0.428571       0.195652    0.141827   \n50%       0.176471    0.503226       0.493930       0.240798    0.170130   \n75%       0.411765    0.670968       0.571429       0.282609    0.170130   \nmax       1.000000    1.000000       1.000000       0.576087    0.877404   \n\n              BMI  DiabetesPedigreeFunction         Age     Outcome  \ncount  700.000000                700.000000  700.000000  700.000000  \nmean     0.299283                  0.179801    0.213500    0.500000  \nstd      0.133861                  0.149262    0.185189    0.500358  \nmin      0.000000                  0.000000    0.000000    0.000000  \n25%      0.203988                  0.077284    0.050000    0.000000  \n50%      0.298569                  0.138343    0.166667    0.500000  \n75%      0.380368                  0.242208    0.333333    1.000000  \nmax      0.799591                  0.961144    0.816667    1.000000  ",
            "text/html": "\u003cdiv\u003e\n\u003cstyle scoped\u003e\n    .dataframe tbody tr th:only-of-type {\n        vertical-align: middle;\n    }\n\n    .dataframe tbody tr th {\n        vertical-align: top;\n    }\n\n    .dataframe thead th {\n        text-align: right;\n    }\n\u003c/style\u003e\n\u003ctable border\u003d\"1\" class\u003d\"dataframe\"\u003e\n  \u003cthead\u003e\n    \u003ctr style\u003d\"text-align: right;\"\u003e\n      \u003cth\u003e\u003c/th\u003e\n      \u003cth\u003ePregnancies\u003c/th\u003e\n      \u003cth\u003eGlucose\u003c/th\u003e\n      \u003cth\u003eBloodPressure\u003c/th\u003e\n      \u003cth\u003eSkinThickness\u003c/th\u003e\n      \u003cth\u003eInsulin\u003c/th\u003e\n      \u003cth\u003eBMI\u003c/th\u003e\n      \u003cth\u003eDiabetesPedigreeFunction\u003c/th\u003e\n      \u003cth\u003eAge\u003c/th\u003e\n      \u003cth\u003eOutcome\u003c/th\u003e\n    \u003c/tr\u003e\n  \u003c/thead\u003e\n  \u003ctbody\u003e\n    \u003ctr\u003e\n      \u003cth\u003ecount\u003c/th\u003e\n      \u003ctd\u003e700.000000\u003c/td\u003e\n      \u003ctd\u003e700.000000\u003c/td\u003e\n      \u003ctd\u003e700.000000\u003c/td\u003e\n      \u003ctd\u003e700.000000\u003c/td\u003e\n      \u003ctd\u003e700.000000\u003c/td\u003e\n      \u003ctd\u003e700.000000\u003c/td\u003e\n      \u003ctd\u003e700.000000\u003c/td\u003e\n      \u003ctd\u003e700.000000\u003c/td\u003e\n      \u003ctd\u003e700.000000\u003c/td\u003e\n    \u003c/tr\u003e\n    \u003ctr\u003e\n      \u003cth\u003emean\u003c/th\u003e\n      \u003ctd\u003e0.239580\u003c/td\u003e\n      \u003ctd\u003e0.533927\u003c/td\u003e\n      \u003ctd\u003e0.500973\u003c/td\u003e\n      \u003ctd\u003e0.241882\u003c/td\u003e\n      \u003ctd\u003e0.177328\u003c/td\u003e\n      \u003ctd\u003e0.299283\u003c/td\u003e\n      \u003ctd\u003e0.179801\u003c/td\u003e\n      \u003ctd\u003e0.213500\u003c/td\u003e\n      \u003ctd\u003e0.500000\u003c/td\u003e\n    \u003c/tr\u003e\n    \u003ctr\u003e\n      \u003cth\u003estd\u003c/th\u003e\n      \u003ctd\u003e0.198146\u003c/td\u003e\n      \u003ctd\u003e0.204906\u003c/td\u003e\n      \u003ctd\u003e0.123855\u003c/td\u003e\n      \u003ctd\u003e0.088227\u003c/td\u003e\n      \u003ctd\u003e0.101161\u003c/td\u003e\n      \u003ctd\u003e0.133861\u003c/td\u003e\n      \u003ctd\u003e0.149262\u003c/td\u003e\n      \u003ctd\u003e0.185189\u003c/td\u003e\n      \u003ctd\u003e0.500358\u003c/td\u003e\n    \u003c/tr\u003e\n    \u003ctr\u003e\n      \u003cth\u003emin\u003c/th\u003e\n      \u003ctd\u003e0.000000\u003c/td\u003e\n      \u003ctd\u003e0.000000\u003c/td\u003e\n      \u003ctd\u003e0.000000\u003c/td\u003e\n      \u003ctd\u003e0.000000\u003c/td\u003e\n      \u003ctd\u003e0.001202\u003c/td\u003e\n      \u003ctd\u003e0.000000\u003c/td\u003e\n      \u003ctd\u003e0.000000\u003c/td\u003e\n      \u003ctd\u003e0.000000\u003c/td\u003e\n      \u003ctd\u003e0.000000\u003c/td\u003e\n    \u003c/tr\u003e\n    \u003ctr\u003e\n      \u003cth\u003e25%\u003c/th\u003e\n      \u003ctd\u003e0.058824\u003c/td\u003e\n      \u003ctd\u003e0.380645\u003c/td\u003e\n      \u003ctd\u003e0.428571\u003c/td\u003e\n      \u003ctd\u003e0.195652\u003c/td\u003e\n      \u003ctd\u003e0.141827\u003c/td\u003e\n      \u003ctd\u003e0.203988\u003c/td\u003e\n      \u003ctd\u003e0.077284\u003c/td\u003e\n      \u003ctd\u003e0.050000\u003c/td\u003e\n      \u003ctd\u003e0.000000\u003c/td\u003e\n    \u003c/tr\u003e\n    \u003ctr\u003e\n      \u003cth\u003e50%\u003c/th\u003e\n      \u003ctd\u003e0.176471\u003c/td\u003e\n      \u003ctd\u003e0.503226\u003c/td\u003e\n      \u003ctd\u003e0.493930\u003c/td\u003e\n      \u003ctd\u003e0.240798\u003c/td\u003e\n      \u003ctd\u003e0.170130\u003c/td\u003e\n      \u003ctd\u003e0.298569\u003c/td\u003e\n      \u003ctd\u003e0.138343\u003c/td\u003e\n      \u003ctd\u003e0.166667\u003c/td\u003e\n      \u003ctd\u003e0.500000\u003c/td\u003e\n    \u003c/tr\u003e\n    \u003ctr\u003e\n      \u003cth\u003e75%\u003c/th\u003e\n      \u003ctd\u003e0.411765\u003c/td\u003e\n      \u003ctd\u003e0.670968\u003c/td\u003e\n      \u003ctd\u003e0.571429\u003c/td\u003e\n      \u003ctd\u003e0.282609\u003c/td\u003e\n      \u003ctd\u003e0.170130\u003c/td\u003e\n      \u003ctd\u003e0.380368\u003c/td\u003e\n      \u003ctd\u003e0.242208\u003c/td\u003e\n      \u003ctd\u003e0.333333\u003c/td\u003e\n      \u003ctd\u003e1.000000\u003c/td\u003e\n    \u003c/tr\u003e\n    \u003ctr\u003e\n      \u003cth\u003emax\u003c/th\u003e\n      \u003ctd\u003e1.000000\u003c/td\u003e\n      \u003ctd\u003e1.000000\u003c/td\u003e\n      \u003ctd\u003e1.000000\u003c/td\u003e\n      \u003ctd\u003e0.576087\u003c/td\u003e\n      \u003ctd\u003e0.877404\u003c/td\u003e\n      \u003ctd\u003e0.799591\u003c/td\u003e\n      \u003ctd\u003e0.961144\u003c/td\u003e\n      \u003ctd\u003e0.816667\u003c/td\u003e\n      \u003ctd\u003e1.000000\u003c/td\u003e\n    \u003c/tr\u003e\n  \u003c/tbody\u003e\n\u003c/table\u003e\n\u003c/div\u003e"
          },
          "metadata": {},
          "output_type": "execute_result",
          "execution_count": 22
        }
      ]
    },
    {
      "cell_type": "code",
      "metadata": {
        "id": "45evGFfKsdUn",
        "colab_type": "code",
        "outputId": "7e9045d1-f833-4fe6-c91f-48e789e61a6c",
        "colab": {},
        "pycharm": {
          "is_executing": false
        }
      },
      "source": [
        "#To create data\n",
        "\n",
        "#train_final.to_csv(\u0027train.csv\u0027, index \u003d False)\n",
        "test.to_csv(\u0027test.csv\u0027, index \u003d False)\n",
        "\n",
        "#To read data\n",
        "train \u003d pd.read_csv(\u0027train.csv\u0027)\n",
        "test \u003d pd.read_csv(\u0027test.csv\u0027)\n",
        "train_final.head()"
      ],
      "execution_count": 23,
      "outputs": [
        {
          "data": {
            "text/plain": "   Pregnancies   Glucose  BloodPressure  SkinThickness   Insulin       BMI  \\\n0     0.352941  0.670968       0.489796       0.304348  0.170130  0.314928   \n2     0.470588  0.896774       0.408163       0.240798  0.170130  0.104294   \n3     0.058824  0.290323       0.428571       0.173913  0.096154  0.202454   \n4     0.000000  0.600000       0.163265       0.304348  0.185096  0.509202   \n6     0.176471  0.219355       0.265306       0.271739  0.088942  0.261759   \n\n   DiabetesPedigreeFunction       Age  Outcome  \n0                  0.234415  0.483333      1.0  \n2                  0.253629  0.183333      1.0  \n3                  0.038002  0.000000      0.0  \n4                  0.943638  0.200000      1.0  \n6                  0.072588  0.083333      1.0  ",
            "text/html": "\u003cdiv\u003e\n\u003cstyle scoped\u003e\n    .dataframe tbody tr th:only-of-type {\n        vertical-align: middle;\n    }\n\n    .dataframe tbody tr th {\n        vertical-align: top;\n    }\n\n    .dataframe thead th {\n        text-align: right;\n    }\n\u003c/style\u003e\n\u003ctable border\u003d\"1\" class\u003d\"dataframe\"\u003e\n  \u003cthead\u003e\n    \u003ctr style\u003d\"text-align: right;\"\u003e\n      \u003cth\u003e\u003c/th\u003e\n      \u003cth\u003ePregnancies\u003c/th\u003e\n      \u003cth\u003eGlucose\u003c/th\u003e\n      \u003cth\u003eBloodPressure\u003c/th\u003e\n      \u003cth\u003eSkinThickness\u003c/th\u003e\n      \u003cth\u003eInsulin\u003c/th\u003e\n      \u003cth\u003eBMI\u003c/th\u003e\n      \u003cth\u003eDiabetesPedigreeFunction\u003c/th\u003e\n      \u003cth\u003eAge\u003c/th\u003e\n      \u003cth\u003eOutcome\u003c/th\u003e\n    \u003c/tr\u003e\n  \u003c/thead\u003e\n  \u003ctbody\u003e\n    \u003ctr\u003e\n      \u003cth\u003e0\u003c/th\u003e\n      \u003ctd\u003e0.352941\u003c/td\u003e\n      \u003ctd\u003e0.670968\u003c/td\u003e\n      \u003ctd\u003e0.489796\u003c/td\u003e\n      \u003ctd\u003e0.304348\u003c/td\u003e\n      \u003ctd\u003e0.170130\u003c/td\u003e\n      \u003ctd\u003e0.314928\u003c/td\u003e\n      \u003ctd\u003e0.234415\u003c/td\u003e\n      \u003ctd\u003e0.483333\u003c/td\u003e\n      \u003ctd\u003e1.0\u003c/td\u003e\n    \u003c/tr\u003e\n    \u003ctr\u003e\n      \u003cth\u003e2\u003c/th\u003e\n      \u003ctd\u003e0.470588\u003c/td\u003e\n      \u003ctd\u003e0.896774\u003c/td\u003e\n      \u003ctd\u003e0.408163\u003c/td\u003e\n      \u003ctd\u003e0.240798\u003c/td\u003e\n      \u003ctd\u003e0.170130\u003c/td\u003e\n      \u003ctd\u003e0.104294\u003c/td\u003e\n      \u003ctd\u003e0.253629\u003c/td\u003e\n      \u003ctd\u003e0.183333\u003c/td\u003e\n      \u003ctd\u003e1.0\u003c/td\u003e\n    \u003c/tr\u003e\n    \u003ctr\u003e\n      \u003cth\u003e3\u003c/th\u003e\n      \u003ctd\u003e0.058824\u003c/td\u003e\n      \u003ctd\u003e0.290323\u003c/td\u003e\n      \u003ctd\u003e0.428571\u003c/td\u003e\n      \u003ctd\u003e0.173913\u003c/td\u003e\n      \u003ctd\u003e0.096154\u003c/td\u003e\n      \u003ctd\u003e0.202454\u003c/td\u003e\n      \u003ctd\u003e0.038002\u003c/td\u003e\n      \u003ctd\u003e0.000000\u003c/td\u003e\n      \u003ctd\u003e0.0\u003c/td\u003e\n    \u003c/tr\u003e\n    \u003ctr\u003e\n      \u003cth\u003e4\u003c/th\u003e\n      \u003ctd\u003e0.000000\u003c/td\u003e\n      \u003ctd\u003e0.600000\u003c/td\u003e\n      \u003ctd\u003e0.163265\u003c/td\u003e\n      \u003ctd\u003e0.304348\u003c/td\u003e\n      \u003ctd\u003e0.185096\u003c/td\u003e\n      \u003ctd\u003e0.509202\u003c/td\u003e\n      \u003ctd\u003e0.943638\u003c/td\u003e\n      \u003ctd\u003e0.200000\u003c/td\u003e\n      \u003ctd\u003e1.0\u003c/td\u003e\n    \u003c/tr\u003e\n    \u003ctr\u003e\n      \u003cth\u003e6\u003c/th\u003e\n      \u003ctd\u003e0.176471\u003c/td\u003e\n      \u003ctd\u003e0.219355\u003c/td\u003e\n      \u003ctd\u003e0.265306\u003c/td\u003e\n      \u003ctd\u003e0.271739\u003c/td\u003e\n      \u003ctd\u003e0.088942\u003c/td\u003e\n      \u003ctd\u003e0.261759\u003c/td\u003e\n      \u003ctd\u003e0.072588\u003c/td\u003e\n      \u003ctd\u003e0.083333\u003c/td\u003e\n      \u003ctd\u003e1.0\u003c/td\u003e\n    \u003c/tr\u003e\n  \u003c/tbody\u003e\n\u003c/table\u003e\n\u003c/div\u003e"
          },
          "metadata": {},
          "output_type": "execute_result",
          "execution_count": 23
        }
      ]
    },
    {
      "cell_type": "markdown",
      "metadata": {
        "id": "wSIWbiMQsdUq",
        "colab_type": "text",
        "pycharm": {}
      },
      "source": [
        "# Naive Bayes\n",
        "\n",
        "## Train data"
      ]
    },
    {
      "cell_type": "code",
      "metadata": {
        "id": "ro__jyZxsdUq",
        "colab_type": "code",
        "colab": {},
        "pycharm": {
          "is_executing": false
        }
      },
      "source": [
        "from sklearn.naive_bayes import GaussianNB\n",
        "from sklearn.naive_bayes import MultinomialNB\n",
        "from sklearn.naive_bayes import BernoulliNB\n",
        "from sklearn import metrics"
      ],
      "execution_count": 24,
      "outputs": []
    },
    {
      "cell_type": "code",
      "metadata": {
        "id": "LnQz-Gq6sdUt",
        "colab_type": "code",
        "colab": {},
        "pycharm": {
          "is_executing": false
        }
      },
      "source": [
        "data \u003d np.array(train_final[train_final.columns[:-1]])\n",
        "target \u003d np.array(train_final[train_final.columns[-1]])"
      ],
      "execution_count": 25,
      "outputs": []
    },
    {
      "cell_type": "code",
      "metadata": {
        "id": "nBhLTjLksdUv",
        "colab_type": "code",
        "outputId": "3884995c-c342-40a0-bfa1-cc2d71624bc3",
        "colab": {},
        "pycharm": {
          "is_executing": false
        }
      },
      "source": [
        "train.head()"
      ],
      "execution_count": 26,
      "outputs": [
        {
          "data": {
            "text/plain": "   Pregnancies   Glucose  BloodPressure  SkinThickness   Insulin       BMI  \\\n0     0.352941  0.670968       0.489796       0.304348  0.170130  0.314928   \n1     0.470588  0.896774       0.408163       0.240798  0.170130  0.104294   \n2     0.058824  0.290323       0.428571       0.173913  0.096154  0.202454   \n3     0.000000  0.600000       0.163265       0.304348  0.185096  0.509202   \n4     0.176471  0.219355       0.265306       0.271739  0.088942  0.261759   \n\n   DiabetesPedigreeFunction       Age  Outcome  \n0                  0.234415  0.483333      1.0  \n1                  0.253629  0.183333      1.0  \n2                  0.038002  0.000000      0.0  \n3                  0.943638  0.200000      1.0  \n4                  0.072588  0.083333      1.0  ",
            "text/html": "\u003cdiv\u003e\n\u003cstyle scoped\u003e\n    .dataframe tbody tr th:only-of-type {\n        vertical-align: middle;\n    }\n\n    .dataframe tbody tr th {\n        vertical-align: top;\n    }\n\n    .dataframe thead th {\n        text-align: right;\n    }\n\u003c/style\u003e\n\u003ctable border\u003d\"1\" class\u003d\"dataframe\"\u003e\n  \u003cthead\u003e\n    \u003ctr style\u003d\"text-align: right;\"\u003e\n      \u003cth\u003e\u003c/th\u003e\n      \u003cth\u003ePregnancies\u003c/th\u003e\n      \u003cth\u003eGlucose\u003c/th\u003e\n      \u003cth\u003eBloodPressure\u003c/th\u003e\n      \u003cth\u003eSkinThickness\u003c/th\u003e\n      \u003cth\u003eInsulin\u003c/th\u003e\n      \u003cth\u003eBMI\u003c/th\u003e\n      \u003cth\u003eDiabetesPedigreeFunction\u003c/th\u003e\n      \u003cth\u003eAge\u003c/th\u003e\n      \u003cth\u003eOutcome\u003c/th\u003e\n    \u003c/tr\u003e\n  \u003c/thead\u003e\n  \u003ctbody\u003e\n    \u003ctr\u003e\n      \u003cth\u003e0\u003c/th\u003e\n      \u003ctd\u003e0.352941\u003c/td\u003e\n      \u003ctd\u003e0.670968\u003c/td\u003e\n      \u003ctd\u003e0.489796\u003c/td\u003e\n      \u003ctd\u003e0.304348\u003c/td\u003e\n      \u003ctd\u003e0.170130\u003c/td\u003e\n      \u003ctd\u003e0.314928\u003c/td\u003e\n      \u003ctd\u003e0.234415\u003c/td\u003e\n      \u003ctd\u003e0.483333\u003c/td\u003e\n      \u003ctd\u003e1.0\u003c/td\u003e\n    \u003c/tr\u003e\n    \u003ctr\u003e\n      \u003cth\u003e1\u003c/th\u003e\n      \u003ctd\u003e0.470588\u003c/td\u003e\n      \u003ctd\u003e0.896774\u003c/td\u003e\n      \u003ctd\u003e0.408163\u003c/td\u003e\n      \u003ctd\u003e0.240798\u003c/td\u003e\n      \u003ctd\u003e0.170130\u003c/td\u003e\n      \u003ctd\u003e0.104294\u003c/td\u003e\n      \u003ctd\u003e0.253629\u003c/td\u003e\n      \u003ctd\u003e0.183333\u003c/td\u003e\n      \u003ctd\u003e1.0\u003c/td\u003e\n    \u003c/tr\u003e\n    \u003ctr\u003e\n      \u003cth\u003e2\u003c/th\u003e\n      \u003ctd\u003e0.058824\u003c/td\u003e\n      \u003ctd\u003e0.290323\u003c/td\u003e\n      \u003ctd\u003e0.428571\u003c/td\u003e\n      \u003ctd\u003e0.173913\u003c/td\u003e\n      \u003ctd\u003e0.096154\u003c/td\u003e\n      \u003ctd\u003e0.202454\u003c/td\u003e\n      \u003ctd\u003e0.038002\u003c/td\u003e\n      \u003ctd\u003e0.000000\u003c/td\u003e\n      \u003ctd\u003e0.0\u003c/td\u003e\n    \u003c/tr\u003e\n    \u003ctr\u003e\n      \u003cth\u003e3\u003c/th\u003e\n      \u003ctd\u003e0.000000\u003c/td\u003e\n      \u003ctd\u003e0.600000\u003c/td\u003e\n      \u003ctd\u003e0.163265\u003c/td\u003e\n      \u003ctd\u003e0.304348\u003c/td\u003e\n      \u003ctd\u003e0.185096\u003c/td\u003e\n      \u003ctd\u003e0.509202\u003c/td\u003e\n      \u003ctd\u003e0.943638\u003c/td\u003e\n      \u003ctd\u003e0.200000\u003c/td\u003e\n      \u003ctd\u003e1.0\u003c/td\u003e\n    \u003c/tr\u003e\n    \u003ctr\u003e\n      \u003cth\u003e4\u003c/th\u003e\n      \u003ctd\u003e0.176471\u003c/td\u003e\n      \u003ctd\u003e0.219355\u003c/td\u003e\n      \u003ctd\u003e0.265306\u003c/td\u003e\n      \u003ctd\u003e0.271739\u003c/td\u003e\n      \u003ctd\u003e0.088942\u003c/td\u003e\n      \u003ctd\u003e0.261759\u003c/td\u003e\n      \u003ctd\u003e0.072588\u003c/td\u003e\n      \u003ctd\u003e0.083333\u003c/td\u003e\n      \u003ctd\u003e1.0\u003c/td\u003e\n    \u003c/tr\u003e\n  \u003c/tbody\u003e\n\u003c/table\u003e\n\u003c/div\u003e"
          },
          "metadata": {},
          "output_type": "execute_result",
          "execution_count": 26
        }
      ]
    },
    {
      "cell_type": "code",
      "metadata": {
        "id": "bpMhpmZbsdUy",
        "colab_type": "code",
        "colab": {},
        "pycharm": {
          "is_executing": false
        }
      },
      "source": [
        "def runprediction(data, target):\n",
        "    #Fit data to model\n",
        "    model.fit(data, target)\n",
        "    #Run prediction\n",
        "    expected \u003d target\n",
        "    predicted \u003d model.predict(data)\n",
        "    #Print results\n",
        "    print(type(model).__name__, metrics.accuracy_score(expected, predicted))\n",
        "    print()\n",
        "    print(metrics.classification_report(expected, predicted))\n",
        "    print(metrics.confusion_matrix(expected, predicted))\n",
        "    print() "
      ],
      "execution_count": 27,
      "outputs": []
    },
    {
      "cell_type": "code",
      "metadata": {
        "id": "LmLI4jSHsdUz",
        "colab_type": "code",
        "outputId": "08700fb8-76aa-414e-a1de-bc0a82456d5a",
        "colab": {},
        "pycharm": {
          "is_executing": false
        }
      },
      "source": [
        "#Select model to use\n",
        "model \u003d GaussianNB() #Best result\n",
        "#model \u003d MultinomialNB()\n",
        "#model \u003d BernoulliNB()\n",
        "\n",
        "#Decide which model is the best using the cross_val_score\n",
        "from sklearn.model_selection import cross_val_score\n",
        "scores \u003d cross_val_score(model, data, target, cv \u003d 10, scoring \u003d \u0027accuracy\u0027)\n",
        "print(\"Individual scores: \", scores)\n",
        "print(\"Mean score: \", scores.mean())"
      ],
      "execution_count": 28,
      "outputs": [
        {
          "name": "stdout",
          "text": [
            "Individual scores:  [0.67142857 0.75714286 0.7        0.71428571 0.75714286 0.72857143\n 0.74285714 0.67142857 0.77142857 0.72857143]\nMean score:  0.7242857142857142\n"
          ],
          "output_type": "stream"
        }
      ]
    },
    {
      "cell_type": "markdown",
      "metadata": {
        "id": "FV9q-M-QsdU2",
        "colab_type": "text",
        "pycharm": {}
      },
      "source": [
        "## Test model"
      ]
    },
    {
      "cell_type": "code",
      "metadata": {
        "id": "xuXRNggasdU2",
        "colab_type": "code",
        "outputId": "40dae7e0-9b0a-4858-c1d7-736140c18711",
        "colab": {},
        "pycharm": {
          "is_executing": false
        }
      },
      "source": [
        "test.head()"
      ],
      "execution_count": 29,
      "outputs": [
        {
          "data": {
            "text/plain": "   Pregnancies   Glucose  BloodPressure  SkinThickness   Insulin       BMI  \\\n0     0.529412  0.780645       0.653061       0.240798  0.170130  0.249489   \n1     0.588235  0.432258       0.469388       0.217391  0.170130  0.190184   \n2     0.058824  0.361290       0.428571       0.239130  0.218750  0.282209   \n3     0.058824  0.522581       0.265306       0.358696  0.183894  0.308793   \n4     0.117647  0.658065       0.493930       0.240798  0.170130  0.190184   \n\n   DiabetesPedigreeFunction       Age  Outcome  \n0                  0.095645  0.466667      1.0  \n1                  0.026900  0.316667      1.0  \n2                  0.156277  0.350000      0.0  \n3                  0.377455  0.116667      1.0  \n4                  0.069172  0.116667      1.0  ",
            "text/html": "\u003cdiv\u003e\n\u003cstyle scoped\u003e\n    .dataframe tbody tr th:only-of-type {\n        vertical-align: middle;\n    }\n\n    .dataframe tbody tr th {\n        vertical-align: top;\n    }\n\n    .dataframe thead th {\n        text-align: right;\n    }\n\u003c/style\u003e\n\u003ctable border\u003d\"1\" class\u003d\"dataframe\"\u003e\n  \u003cthead\u003e\n    \u003ctr style\u003d\"text-align: right;\"\u003e\n      \u003cth\u003e\u003c/th\u003e\n      \u003cth\u003ePregnancies\u003c/th\u003e\n      \u003cth\u003eGlucose\u003c/th\u003e\n      \u003cth\u003eBloodPressure\u003c/th\u003e\n      \u003cth\u003eSkinThickness\u003c/th\u003e\n      \u003cth\u003eInsulin\u003c/th\u003e\n      \u003cth\u003eBMI\u003c/th\u003e\n      \u003cth\u003eDiabetesPedigreeFunction\u003c/th\u003e\n      \u003cth\u003eAge\u003c/th\u003e\n      \u003cth\u003eOutcome\u003c/th\u003e\n    \u003c/tr\u003e\n  \u003c/thead\u003e\n  \u003ctbody\u003e\n    \u003ctr\u003e\n      \u003cth\u003e0\u003c/th\u003e\n      \u003ctd\u003e0.529412\u003c/td\u003e\n      \u003ctd\u003e0.780645\u003c/td\u003e\n      \u003ctd\u003e0.653061\u003c/td\u003e\n      \u003ctd\u003e0.240798\u003c/td\u003e\n      \u003ctd\u003e0.170130\u003c/td\u003e\n      \u003ctd\u003e0.249489\u003c/td\u003e\n      \u003ctd\u003e0.095645\u003c/td\u003e\n      \u003ctd\u003e0.466667\u003c/td\u003e\n      \u003ctd\u003e1.0\u003c/td\u003e\n    \u003c/tr\u003e\n    \u003ctr\u003e\n      \u003cth\u003e1\u003c/th\u003e\n      \u003ctd\u003e0.588235\u003c/td\u003e\n      \u003ctd\u003e0.432258\u003c/td\u003e\n      \u003ctd\u003e0.469388\u003c/td\u003e\n      \u003ctd\u003e0.217391\u003c/td\u003e\n      \u003ctd\u003e0.170130\u003c/td\u003e\n      \u003ctd\u003e0.190184\u003c/td\u003e\n      \u003ctd\u003e0.026900\u003c/td\u003e\n      \u003ctd\u003e0.316667\u003c/td\u003e\n      \u003ctd\u003e1.0\u003c/td\u003e\n    \u003c/tr\u003e\n    \u003ctr\u003e\n      \u003cth\u003e2\u003c/th\u003e\n      \u003ctd\u003e0.058824\u003c/td\u003e\n      \u003ctd\u003e0.361290\u003c/td\u003e\n      \u003ctd\u003e0.428571\u003c/td\u003e\n      \u003ctd\u003e0.239130\u003c/td\u003e\n      \u003ctd\u003e0.218750\u003c/td\u003e\n      \u003ctd\u003e0.282209\u003c/td\u003e\n      \u003ctd\u003e0.156277\u003c/td\u003e\n      \u003ctd\u003e0.350000\u003c/td\u003e\n      \u003ctd\u003e0.0\u003c/td\u003e\n    \u003c/tr\u003e\n    \u003ctr\u003e\n      \u003cth\u003e3\u003c/th\u003e\n      \u003ctd\u003e0.058824\u003c/td\u003e\n      \u003ctd\u003e0.522581\u003c/td\u003e\n      \u003ctd\u003e0.265306\u003c/td\u003e\n      \u003ctd\u003e0.358696\u003c/td\u003e\n      \u003ctd\u003e0.183894\u003c/td\u003e\n      \u003ctd\u003e0.308793\u003c/td\u003e\n      \u003ctd\u003e0.377455\u003c/td\u003e\n      \u003ctd\u003e0.116667\u003c/td\u003e\n      \u003ctd\u003e1.0\u003c/td\u003e\n    \u003c/tr\u003e\n    \u003ctr\u003e\n      \u003cth\u003e4\u003c/th\u003e\n      \u003ctd\u003e0.117647\u003c/td\u003e\n      \u003ctd\u003e0.658065\u003c/td\u003e\n      \u003ctd\u003e0.493930\u003c/td\u003e\n      \u003ctd\u003e0.240798\u003c/td\u003e\n      \u003ctd\u003e0.170130\u003c/td\u003e\n      \u003ctd\u003e0.190184\u003c/td\u003e\n      \u003ctd\u003e0.069172\u003c/td\u003e\n      \u003ctd\u003e0.116667\u003c/td\u003e\n      \u003ctd\u003e1.0\u003c/td\u003e\n    \u003c/tr\u003e\n  \u003c/tbody\u003e\n\u003c/table\u003e\n\u003c/div\u003e"
          },
          "metadata": {},
          "output_type": "execute_result",
          "execution_count": 29
        }
      ]
    },
    {
      "cell_type": "code",
      "metadata": {
        "id": "bQA046cosdU4",
        "colab_type": "code",
        "outputId": "fd7c3e1e-8daf-45de-8b4a-fc12deee94d5",
        "colab": {},
        "pycharm": {
          "is_executing": false
        }
      },
      "source": [
        "data \u003d np.array(test[test.columns[:-1]])\n",
        "target \u003d np.array(test[test.columns[-1]])\n",
        "runprediction(data,target)"
      ],
      "execution_count": 30,
      "outputs": [
        {
          "name": "stdout",
          "text": [
            "GaussianNB 0.8033333333333333\n\n              precision    recall  f1-score   support\n\n         0.0       0.85      0.87      0.86       207\n         1.0       0.70      0.65      0.67        93\n\n    accuracy                           0.80       300\n   macro avg       0.77      0.76      0.77       300\nweighted avg       0.80      0.80      0.80       300\n\n[[181  26]\n [ 33  60]]\n\n"
          ],
          "output_type": "stream"
        }
      ]
    },
    {
      "cell_type": "code",
      "metadata": {
        "id": "Yq3r7-bqsl5c",
        "colab_type": "code",
        "colab": {},
        "pycharm": {
          "is_executing": false
        }
      },
      "source": [
        "import sklearn.metrics as metrics\n",
        "# calculate the fpr and tpr for all thresholds of the classification\n",
        "probs \u003d model.predict_proba(data)#x_test\n",
        "preds \u003d probs[:,1]\n",
        "fpr, tpr, threshold \u003d metrics.roc_curve(target, preds)#y_test\n",
        "roc_auc \u003d metrics.auc(fpr, tpr)\n",
        "\n",
        "# method I: plt\n",
        "import matplotlib.pyplot as plt\n",
        "plt.title(\u0027Receiver Operating Characteristic for GNB\u0027)\n",
        "plt.plot(fpr, tpr, \u0027b\u0027, label \u003d \u0027AUC \u003d %0.2f\u0027 % roc_auc)\n",
        "plt.legend(loc \u003d \u0027lower right\u0027)\n",
        "plt.plot([0, 1], [0, 1],\u0027r--\u0027)\n",
        "plt.xlim([0, 1])\n",
        "plt.ylim([0, 1])\n",
        "plt.ylabel(\u0027True Positive Rate\u0027)\n",
        "plt.xlabel(\u0027False Positive Rate\u0027)\n",
        "plt.show()"
      ],
      "execution_count": 31,
      "outputs": [
        {
          "data": {
            "text/plain": "\u003cFigure size 640x480 with 1 Axes\u003e"
          },
          "metadata": {},
          "output_type": "display_data"
        }
      ]
    },
    {
      "cell_type": "markdown",
      "metadata": {
        "id": "ppLJCabMsdU7",
        "colab_type": "text",
        "pycharm": {}
      },
      "source": [
        "## What happens if we drop Pregnancies?"
      ]
    },
    {
      "cell_type": "code",
      "metadata": {
        "id": "llun_JoysdU7",
        "colab_type": "code",
        "colab": {},
        "pycharm": {
          "is_executing": false
        }
      },
      "source": [
        "data \u003d np.array(train_final.drop(\u0027Pregnancies\u0027, axis \u003d1).drop(\u0027Outcome\u0027, axis \u003d 1))\n",
        "target \u003d np.array(train_final[\u0027Outcome\u0027])"
      ],
      "execution_count": 32,
      "outputs": []
    },
    {
      "cell_type": "code",
      "metadata": {
        "id": "feygWpmjsdU9",
        "colab_type": "code",
        "outputId": "f3bb65e9-8485-4021-f8d7-b1981fae11aa",
        "colab": {},
        "pycharm": {
          "is_executing": false
        }
      },
      "source": [
        "#Select model to use\n",
        "model \u003d GaussianNB() #Best result\n",
        "#model \u003d MultinomialNB()\n",
        "#model \u003d BernoulliNB()\n",
        "\n",
        "#Decide which model is the best using the cross_val_score\n",
        "from sklearn.model_selection import cross_val_score\n",
        "scores \u003d cross_val_score(model, data, target, cv \u003d 10, scoring \u003d \u0027accuracy\u0027)\n",
        "print(\"Individual scores: \", scores)\n",
        "print(\"Mean score: \", scores.mean())"
      ],
      "execution_count": 33,
      "outputs": [
        {
          "name": "stdout",
          "text": [
            "Individual scores:  [0.7        0.72857143 0.68571429 0.71428571 0.75714286 0.77142857\n 0.74285714 0.65714286 0.77142857 0.71428571]\nMean score:  0.7242857142857142\n"
          ],
          "output_type": "stream"
        }
      ]
    },
    {
      "cell_type": "code",
      "metadata": {
        "id": "EBP8I5L6sdVB",
        "colab_type": "code",
        "outputId": "c5e68894-58f5-40d8-f3d7-cfe995493668",
        "colab": {},
        "pycharm": {
          "is_executing": false
        }
      },
      "source": [
        "data \u003d np.array(test.drop(\u0027Pregnancies\u0027, axis \u003d 1).drop(\u0027Outcome\u0027, axis \u003d1))\n",
        "target \u003d np.array(test[\u0027Outcome\u0027])\n",
        "runprediction(data,target)"
      ],
      "execution_count": 34,
      "outputs": [
        {
          "name": "stdout",
          "text": [
            "GaussianNB 0.79\n\n              precision    recall  f1-score   support\n\n         0.0       0.83      0.87      0.85       207\n         1.0       0.68      0.60      0.64        93\n\n    accuracy                           0.79       300\n   macro avg       0.76      0.74      0.75       300\nweighted avg       0.78      0.79      0.79       300\n\n[[181  26]\n [ 37  56]]\n\n"
          ],
          "output_type": "stream"
        }
      ]
    },
    {
      "cell_type": "markdown",
      "metadata": {
        "id": "NBcqcruesdVD",
        "colab_type": "text",
        "pycharm": {}
      },
      "source": [
        "# Decision Trees\n"
      ]
    },
    {
      "cell_type": "code",
      "metadata": {
        "id": "UiyLY2wJsdVE",
        "colab_type": "code",
        "colab": {},
        "pycharm": {
          "is_executing": false
        }
      },
      "source": [
        "from sklearn.tree import DecisionTreeClassifier, export_graphviz\n",
        "\n",
        "tree \u003d DecisionTreeClassifier()\n",
        "tree \u003d tree.fit(train.drop(\u0027Outcome\u0027, axis\u003d1), train[\u0027Outcome\u0027])"
      ],
      "execution_count": 35,
      "outputs": []
    },
    {
      "cell_type": "code",
      "metadata": {
        "id": "GNbLSZrUsdVF",
        "colab_type": "code",
        "outputId": "2e93da97-bb33-4989-d70d-789c3afb2d02",
        "colab": {},
        "pycharm": {
          "is_executing": false
        }
      },
      "source": [
        "from sklearn.tree import export_graphviz\n",
        "from IPython.display import Image \n",
        "\n",
        "dot_data \u003d export_graphviz(tree, out_file\u003dNone, \n",
        "                           feature_names\u003dtrain.columns[:-1],\n",
        "                           class_names\u003d[\u00271\u0027,\u00270\u0027],\n",
        "filled\u003dTrue, rounded\u003dTrue, \n",
        "special_characters\u003dTrue) \n",
        "\n",
        "graph \u003d pydotplus.graph_from_dot_data(dot_data) \n",
        "image \u003d Image(graph.create_png())\n",
        "type(image)"
      ],
      "execution_count": 37,
      "outputs": [
        {
          "traceback": [
            "\u001b[0;31m---------------------------------------------------------------------------\u001b[0m",
            "\u001b[0;31mNameError\u001b[0m                                 Traceback (most recent call last)",
            "\u001b[0;32m\u003cipython-input-37-f51ee0560969\u003e\u001b[0m in \u001b[0;36m\u003cmodule\u003e\u001b[0;34m\u001b[0m\n\u001b[1;32m      8\u001b[0m special_characters\u003dTrue) \n\u001b[1;32m      9\u001b[0m \u001b[0;34m\u001b[0m\u001b[0m\n\u001b[0;32m---\u003e 10\u001b[0;31m \u001b[0mgraph\u001b[0m \u001b[0;34m\u003d\u001b[0m \u001b[0mpydotplus\u001b[0m\u001b[0;34m.\u001b[0m\u001b[0mgraph_from_dot_data\u001b[0m\u001b[0;34m(\u001b[0m\u001b[0mdot_data\u001b[0m\u001b[0;34m)\u001b[0m\u001b[0;34m\u001b[0m\u001b[0;34m\u001b[0m\u001b[0m\n\u001b[0m\u001b[1;32m     11\u001b[0m \u001b[0mimage\u001b[0m \u001b[0;34m\u003d\u001b[0m \u001b[0mImage\u001b[0m\u001b[0;34m(\u001b[0m\u001b[0mgraph\u001b[0m\u001b[0;34m.\u001b[0m\u001b[0mcreate_png\u001b[0m\u001b[0;34m(\u001b[0m\u001b[0;34m)\u001b[0m\u001b[0;34m)\u001b[0m\u001b[0;34m\u001b[0m\u001b[0;34m\u001b[0m\u001b[0m\n\u001b[1;32m     12\u001b[0m \u001b[0mtype\u001b[0m\u001b[0;34m(\u001b[0m\u001b[0mimage\u001b[0m\u001b[0;34m)\u001b[0m\u001b[0;34m\u001b[0m\u001b[0;34m\u001b[0m\u001b[0m\n",
            "\u001b[0;31mNameError\u001b[0m: name \u0027pydotplus\u0027 is not defined"
          ],
          "ename": "NameError",
          "evalue": "name \u0027pydotplus\u0027 is not defined",
          "output_type": "error"
        }
      ]
    },
    {
      "cell_type": "code",
      "metadata": {
        "id": "LI_ATzSesdVI",
        "colab_type": "code",
        "outputId": "6e74cd58-ab5d-493f-aa46-913776bacc01",
        "colab": {},
        "pycharm": {
          "is_executing": true
        }
      },
      "source": [
        "image"
      ],
      "execution_count": null,
      "outputs": []
    },
    {
      "cell_type": "code",
      "metadata": {
        "id": "UyrhkBSrsdVL",
        "colab_type": "code",
        "colab": {},
        "pycharm": {
          "is_executing": true
        }
      },
      "source": [
        "with open(\u0027tree.png\u0027, \u0027wb\u0027) as file:\n",
        "  file.write(image.data)"
      ],
      "execution_count": null,
      "outputs": []
    },
    {
      "cell_type": "markdown",
      "metadata": {
        "id": "rFi9LsEasdVP",
        "colab_type": "text",
        "pycharm": {}
      },
      "source": [
        "# Random Forest\n",
        "\n",
        "## Train"
      ]
    },
    {
      "cell_type": "code",
      "metadata": {
        "id": "wnrEvc3-sdVQ",
        "colab_type": "code",
        "outputId": "d1388834-64c2-4053-fc56-220bb436019d",
        "colab": {},
        "pycharm": {
          "is_executing": false
        }
      },
      "source": [
        "from sklearn.ensemble import RandomForestClassifier\n",
        "#train \u003d pd.read_csv(\u0027train.csv\u0027)\n",
        "#test \u003d pd.read_csv(\u0027test.csv\u0027)\n",
        "clf \u003d RandomForestClassifier(n_estimators\u003d100, random_state\u003d7)\n",
        "data \u003d np.array(train_final[train_final.columns[:-1]])\n",
        "target \u003d np.array(train_final[train_final.columns[-1]])\n",
        "clf.fit(data, target)"
      ],
      "execution_count": 38,
      "outputs": [
        {
          "data": {
            "text/plain": "RandomForestClassifier(bootstrap\u003dTrue, class_weight\u003dNone, criterion\u003d\u0027gini\u0027,\n                       max_depth\u003dNone, max_features\u003d\u0027auto\u0027, max_leaf_nodes\u003dNone,\n                       min_impurity_decrease\u003d0.0, min_impurity_split\u003dNone,\n                       min_samples_leaf\u003d1, min_samples_split\u003d2,\n                       min_weight_fraction_leaf\u003d0.0, n_estimators\u003d100,\n                       n_jobs\u003dNone, oob_score\u003dFalse, random_state\u003d7, verbose\u003d0,\n                       warm_start\u003dFalse)"
          },
          "metadata": {},
          "output_type": "execute_result",
          "execution_count": 38
        }
      ]
    },
    {
      "cell_type": "markdown",
      "metadata": {
        "id": "o9XTu0UcsdVW",
        "colab_type": "text",
        "pycharm": {}
      },
      "source": [
        "## Test"
      ]
    },
    {
      "cell_type": "code",
      "metadata": {
        "id": "JKlhnomPsdVX",
        "colab_type": "code",
        "colab": {},
        "pycharm": {
          "is_executing": false
        }
      },
      "source": [
        "data \u003d np.array(test[test.columns[:-1]])\n",
        "target \u003d np.array(test[test.columns[-1]])\n",
        "p \u003d clf.predict(data)"
      ],
      "execution_count": 58,
      "outputs": []
    },
    {
      "cell_type": "code",
      "metadata": {
        "id": "l4qPFRDesdVa",
        "colab_type": "code",
        "outputId": "76375340-f055-45d1-f9b5-fdcf4d7f614f",
        "colab": {},
        "pycharm": {
          "is_executing": false
        }
      },
      "source": "a \u003d metrics.accuracy_score(test[\u0027Outcome\u0027], p)\nprint(type(model).__name__, metrics.accuracy_score(test[\u0027Outcome\u0027], p))\nprint()\nprint(metrics.classification_report(test[\u0027Outcome\u0027], p))\nprint(metrics.confusion_matrix(test[\u0027Outcome\u0027], p))\nprint() \na",
      "execution_count": 59,
      "outputs": [
        {
          "name": "stdout",
          "text": [
            "GaussianNB 0.7733333333333333\n\n              precision    recall  f1-score   support\n\n         0.0       0.86      0.81      0.83       207\n         1.0       0.62      0.70      0.66        93\n\n    accuracy                           0.77       300\n   macro avg       0.74      0.75      0.74       300\nweighted avg       0.78      0.77      0.78       300\n\n[[167  40]\n [ 28  65]]\n\n"
          ],
          "output_type": "stream"
        },
        {
          "data": {
            "text/plain": "0.7733333333333333"
          },
          "metadata": {},
          "output_type": "execute_result",
          "execution_count": 59
        }
      ]
    },
    {
      "cell_type": "code",
      "execution_count": 60,
      "outputs": [
        {
          "name": "stdout",
          "text": [
            "Confusion matrix, without normalization\n[[167  40]\n [ 28  65]]\n"
          ],
          "output_type": "stream"
        },
        {
          "data": {
            "text/plain": "\u003cmatplotlib.axes._subplots.AxesSubplot at 0x1203f7690\u003e"
          },
          "metadata": {},
          "output_type": "execute_result",
          "execution_count": 60
        },
        {
          "data": {
            "text/plain": "\u003cFigure size 432x288 with 2 Axes\u003e",
            "image/png": "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\u003d\n"
          },
          "metadata": {
            "needs_background": "light"
          },
          "output_type": "display_data"
        }
      ],
      "source": "from sklearn.utils.multiclass import unique_labels\n\ndef plot_confusion_matrix(y_true, y_pred, classes,\n                          normalize\u003dFalse,\n                          title\u003dNone,\n                          cmap\u003dplt.cm.Blues):\n    \"\"\"\n    This function prints and plots the confusion matrix.\n    Normalization can be applied by setting `normalize\u003dTrue`.\n    \"\"\"\n    if not title:\n        if normalize:\n            title \u003d \u0027Normalized confusion matrix\u0027\n        else:\n            title \u003d \u0027Confusion matrix, without normalization\u0027\n\n    # Compute confusion matrix\n    cm \u003d metrics.confusion_matrix(y_true, y_pred)\n    # Only use the labels that appear in the data\n    if normalize:\n        cm \u003d cm.astype(\u0027float\u0027) / cm.sum(axis\u003d1)[:, np.newaxis]\n        print(\"Normalized confusion matrix\")\n    else:\n        print(\u0027Confusion matrix, without normalization\u0027)\n\n    print(cm)\n\n    fig, ax \u003d plt.subplots()\n    im \u003d ax.imshow(cm, interpolation\u003d\u0027nearest\u0027, cmap\u003dcmap)\n    ax.figure.colorbar(im, ax\u003dax)\n    # We want to show all ticks...\n    ax.set(xticks\u003dnp.arange(cm.shape[1]),\n           yticks\u003dnp.arange(cm.shape[0]),\n           # ... and label them with the respective list entries\n           xticklabels\u003dclasses, yticklabels\u003dclasses,\n           title\u003dtitle,\n           ylabel\u003d\u0027True label\u0027,\n           xlabel\u003d\u0027Predicted label\u0027)\n\n    # Rotate the tick labels and set their alignment.\n    plt.setp(ax.get_xticklabels(), rotation\u003d45, ha\u003d\"right\",\n             rotation_mode\u003d\"anchor\")\n\n    # Loop over data dimensions and create text annotations.\n    fmt \u003d \u0027.2f\u0027 if normalize else \u0027d\u0027\n    thresh \u003d cm.max() / 2.\n    for i in range(cm.shape[0]):\n        for j in range(cm.shape[1]):\n            ax.text(j, i, format(cm[i, j], fmt),\n                    ha\u003d\"center\", va\u003d\"center\",\n                    color\u003d\"white\" if cm[i, j] \u003e thresh else \"black\")\n    fig.tight_layout()\n    return ax\nplot_confusion_matrix(test[\u0027Outcome\u0027], p, classes\u003d[\u0027yes\u0027, \u0027no\u0027],\n                      title\u003d\u0027Confusion matrix\u0027)",
      "metadata": {
        "pycharm": {
          "metadata": false,
          "name": "#%%\n",
          "is_executing": false
        }
      }
    },
    {
      "cell_type": "code",
      "metadata": {
        "id": "6hjX3pZLwX1p",
        "colab_type": "code",
        "colab": {},
        "pycharm": {
          "is_executing": false
        }
      },
      "source": "import sklearn.metrics as metrics\n# calculate the fpr and tpr for all thresholds of the classification\nprobs \u003d clf.predict_proba(data)#x_test\npreds \u003d probs[:,1]\nfpr, tpr, threshold \u003d metrics.roc_curve(target, preds)#y_test\nroc_auc \u003d metrics.auc(fpr, tpr)\n\n# method I: plt\nimport matplotlib.pyplot as plt\nplt.title(\u0027Receiver Operating Characteristic for random forest\u0027)\nplt.plot(fpr, tpr, \u0027b\u0027, label \u003d \u0027AUC \u003d %0.2f\u0027 % roc_auc)\nplt.legend(loc \u003d \u0027lower right\u0027)\nplt.plot([0, 1], [0, 1],\u0027r--\u0027)\nplt.xlim([0, 1])\nplt.ylim([0, 1])\nplt.ylabel(\u0027True Positive Rate\u0027)\nplt.xlabel(\u0027False Positive Rate\u0027)\nplt.show()",
      "execution_count": 41,
      "outputs": [
        {
          "data": {
            "text/plain": "\u003cFigure size 432x288 with 1 Axes\u003e",
            "image/png": "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\u003d\u003d\n"
          },
          "metadata": {
            "needs_background": "light"
          },
          "output_type": "display_data"
        }
      ]
    },
    {
      "cell_type": "code",
      "execution_count": 39,
      "outputs": [],
      "source": "",
      "metadata": {
        "pycharm": {
          "metadata": false,
          "name": "#%%\n",
          "is_executing": false
        }
      }
    },
    {
      "cell_type": "code",
      "execution_count": 39,
      "outputs": [],
      "source": "",
      "metadata": {
        "pycharm": {
          "metadata": false,
          "name": "#%%\n",
          "is_executing": false
        }
      }
    },
    {
      "cell_type": "code",
      "execution_count": 39,
      "outputs": [],
      "source": "",
      "metadata": {
        "pycharm": {
          "metadata": false,
          "name": "#%%\n",
          "is_executing": false
        }
      }
    },
    {
      "cell_type": "code",
      "execution_count": 39,
      "outputs": [],
      "source": "",
      "metadata": {
        "pycharm": {
          "metadata": false,
          "name": "#%%\n",
          "is_executing": false
        }
      }
    },
    {
      "cell_type": "code",
      "execution_count": 39,
      "outputs": [],
      "source": "",
      "metadata": {
        "pycharm": {
          "metadata": false,
          "name": "#%%\n",
          "is_executing": false
        }
      }
    },
    {
      "cell_type": "code",
      "execution_count": 39,
      "outputs": [],
      "source": "",
      "metadata": {
        "pycharm": {
          "metadata": false,
          "name": "#%%\n",
          "is_executing": false
        }
      }
    },
    {
      "cell_type": "code",
      "execution_count": 39,
      "outputs": [],
      "source": "",
      "metadata": {
        "pycharm": {
          "metadata": false,
          "name": "#%%\n",
          "is_executing": false
        }
      }
    },
    {
      "cell_type": "code",
      "execution_count": null,
      "outputs": [],
      "source": "\n",
      "metadata": {
        "pycharm": {
          "metadata": false,
          "name": "#%%\n"
        }
      }
    }
  ]
}